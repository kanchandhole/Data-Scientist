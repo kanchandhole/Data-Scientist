{
  "nbformat": 4,
  "nbformat_minor": 0,
  "metadata": {
    "colab": {
      "provenance": [],
      "authorship_tag": "ABX9TyN6fdfAkEBt9uYGbhnG8247",
      "include_colab_link": true
    },
    "kernelspec": {
      "name": "python3",
      "display_name": "Python 3"
    },
    "language_info": {
      "name": "python"
    }
  },
  "cells": [
    {
      "cell_type": "markdown",
      "metadata": {
        "id": "view-in-github",
        "colab_type": "text"
      },
      "source": [
        "<a href=\"https://colab.research.google.com/github/kanchandhole/Data-Scientist/blob/main/29th_jan_python_assignment.ipynb\" target=\"_parent\"><img src=\"https://colab.research.google.com/assets/colab-badge.svg\" alt=\"Open In Colab\"/></a>"
      ]
    },
    {
      "cell_type": "markdown",
      "source": [
        "**1.** Who developed Python Programming Language?\n",
        "\n",
        "**Ans:** Guido van Rossum developed Python in 1989 and it was first released in 1991."
      ],
      "metadata": {
        "id": "sLDkDA_rhXPM"
      }
    },
    {
      "cell_type": "markdown",
      "source": [
        "**2.** Which type of Programming does Python support?\n",
        "\n",
        "**Ans:** Python supports object-oriented, procedural, and functional programming."
      ],
      "metadata": {
        "id": "Lq78GalghXR8"
      }
    },
    {
      "cell_type": "markdown",
      "source": [
        "**3.** Is Python case sensitive when dealing with identifiers?\n",
        "\n",
        "**Ans:** Yes, Python is case sensitive.\n",
        "\n",
        "Example: Age and age are treated as two different variables."
      ],
      "metadata": {
        "id": "PMXd2z6_hXUj"
      }
    },
    {
      "cell_type": "markdown",
      "source": [
        "**4.** What is the correct extension of the Python file?\n",
        "\n",
        "Ans: The correct extension is .py."
      ],
      "metadata": {
        "id": "uxR0R9IthXXa"
      }
    },
    {
      "cell_type": "markdown",
      "source": [
        "**5.** Is Python code compiled or interpreted?\n",
        "\n",
        "**Ans:** Python code is interpreted (executed line by line), though it is first compiled into bytecode internally before interpretation."
      ],
      "metadata": {
        "id": "6lQIsbv_hXaJ"
      }
    },
    {
      "cell_type": "markdown",
      "source": [
        "**6.** Name a few blocks of code used to define in Python language.\n",
        "\n",
        "**Ans:** Functions (def), Classes (class), Loops (for, while), Conditional statements (if, elif, else), and Exception handling (try, except)."
      ],
      "metadata": {
        "id": "6cJqaCFPhXck"
      }
    },
    {
      "cell_type": "markdown",
      "source": [
        "**7.** State a character used to give single-line comments in Python.\n",
        "\n",
        "**Ans:**The hash symbol (#) is used for single-line comments."
      ],
      "metadata": {
        "id": "oNgRf64-hXfm"
      }
    },
    {
      "cell_type": "markdown",
      "source": [
        "**8.** Mention functions which can help us to find the version of Python that we are currently working on.\n",
        "\n",
        "**Ans:** python --version (command line)"
      ],
      "metadata": {
        "id": "E1EcQZAPhXif"
      }
    },
    {
      "cell_type": "code",
      "source": [
        "import sys\n",
        "print(sys.version)"
      ],
      "metadata": {
        "colab": {
          "base_uri": "https://localhost:8080/"
        },
        "id": "9ZyyQnVtibog",
        "outputId": "210f787d-2b19-4936-9cb3-13181aee24ff"
      },
      "execution_count": 1,
      "outputs": [
        {
          "output_type": "stream",
          "name": "stdout",
          "text": [
            "3.12.12 (main, Oct 10 2025, 08:52:57) [GCC 11.4.0]\n"
          ]
        }
      ]
    },
    {
      "cell_type": "markdown",
      "source": [
        "**9.** Python supports the creation of anonymous functions at runtime, using a construct called __________\n",
        "\n",
        "Ans: lambda"
      ],
      "metadata": {
        "id": "dFTMMZyPig4Z"
      }
    },
    {
      "cell_type": "markdown",
      "source": [
        "**10.** What does pip stand for in Python?\n",
        "\n",
        "**Ans:** Pip Installs Packages (or Pip Installs Python).\n",
        "It is used to install and manage Python libraries."
      ],
      "metadata": {
        "id": "salu8uwdig7L"
      }
    },
    {
      "cell_type": "markdown",
      "source": [
        "**11.** Mention a few built-in functions in Python.\n",
        "\n",
        "**Ans:** Examples:\n",
        "print(), len(), type(), input(), range(), sum(), max(), min(), sorted()."
      ],
      "metadata": {
        "id": "82tj2Fyuig-k"
      }
    },
    {
      "cell_type": "markdown",
      "source": [
        "**12.** What is the maximum possible length of an identifier in Python?\n",
        "\n",
        "**Ans:** There is no fixed limit, but identifiers must follow naming rules (cannot start with a digit, etc.).\n",
        "However, practically limited by system memory."
      ],
      "metadata": {
        "id": "46P4UjWThXlo"
      }
    },
    {
      "cell_type": "markdown",
      "source": [
        "**13.** What are the benefits of using Python?\n",
        "\n",
        "**ans:**\n",
        "\n",
        "Easy to learn and read\n",
        "\n",
        "Cross-platform\n",
        "\n",
        "Huge library support\n",
        "\n",
        "Open-source\n",
        "\n",
        "Great for AI, Data Science, and Web Development\n",
        "\n",
        "Strong community support"
      ],
      "metadata": {
        "id": "r3M_jTQmi9Jp"
      }
    },
    {
      "cell_type": "markdown",
      "source": [
        "**14.** How is memory managed in Python?\n",
        "\n",
        "**Ans:** Python uses automatic garbage collection and reference counting.\n",
        "The Python memory manager handles allocation and deallocation."
      ],
      "metadata": {
        "id": "UVnwpMHHi9MG"
      }
    },
    {
      "cell_type": "markdown",
      "source": [
        "**15.** How to install Python on Windows and set path variables?\n",
        "\n",
        "**ans:**\n",
        "\n",
        "Download from python.org\n",
        ".\n",
        "\n",
        "Run the installer and check “Add Python to PATH”.\n",
        "\n",
        "Verify installation:"
      ],
      "metadata": {
        "id": "d3LMW2Fci9Pn"
      }
    },
    {
      "cell_type": "markdown",
      "source": [
        "**16. **Is indentation required in Python?\n",
        "\n",
        "**ans:** Yes, indentation is mandatory.\n",
        "\n",
        "It defines the code blocks (loops, functions, conditions).\n",
        "\n",
        "Incorrect indentation raises an IndentationError."
      ],
      "metadata": {
        "id": "MugO3EHxjU6g"
      }
    }
  ]
}