{
  "nbformat": 4,
  "nbformat_minor": 0,
  "metadata": {
    "colab": {
      "provenance": [],
      "authorship_tag": "ABX9TyPgrdGMRT86KNTZRtQLTEGq",
      "include_colab_link": true
    },
    "kernelspec": {
      "name": "python3",
      "display_name": "Python 3"
    },
    "language_info": {
      "name": "python"
    }
  },
  "cells": [
    {
      "cell_type": "markdown",
      "metadata": {
        "id": "view-in-github",
        "colab_type": "text"
      },
      "source": [
        "<a href=\"https://colab.research.google.com/github/kanchandhole/Data-Scientist/blob/main/Q5_feb_opps_assignment.ipynb\" target=\"_parent\"><img src=\"https://colab.research.google.com/assets/colab-badge.svg\" alt=\"Open In Colab\"/></a>"
      ]
    },
    {
      "cell_type": "markdown",
      "source": [
        "**Q1.** Explain Class and Object with respect to Object-Oriented Programming. Give a suitable example.\n",
        "\n",
        "**Ans:** class:  a class serves as a blueprint for creating objects. It encapsulates data (attributes) and functions (methods) that operate on that data. Classes are fundamental to object-oriented programming (OOP), allowing for code organization, reusability, and abstraction.\n",
        "class is define a keyword class()\n",
        "\n",
        "object: object is instance of a class.\n",
        "\n",
        "example:\n"
      ],
      "metadata": {
        "id": "aOG8qwz7IBn3"
      }
    },
    {
      "cell_type": "code",
      "source": [
        "class dog:\n",
        "  def __init__(self,name,age):\n",
        "    self.name=name\n",
        "    self.age=age\n",
        "  def bark(self):\n",
        "    print(f\"{self.name} is barking\")"
      ],
      "metadata": {
        "id": "3eggJCKFIwel"
      },
      "execution_count": 12,
      "outputs": []
    },
    {
      "cell_type": "code",
      "execution_count": 13,
      "metadata": {
        "id": "QwxPnJGnH70P"
      },
      "outputs": [],
      "source": [
        "d = dog(\"tommy\",2)"
      ]
    },
    {
      "cell_type": "code",
      "source": [
        "d.age"
      ],
      "metadata": {
        "colab": {
          "base_uri": "https://localhost:8080/"
        },
        "id": "CeiUSLxBJC6f",
        "outputId": "af51df7e-bf94-4722-cd44-2183551cc5e4"
      },
      "execution_count": 14,
      "outputs": [
        {
          "output_type": "execute_result",
          "data": {
            "text/plain": [
              "2"
            ]
          },
          "metadata": {},
          "execution_count": 14
        }
      ]
    },
    {
      "cell_type": "code",
      "source": [
        "d.bark()"
      ],
      "metadata": {
        "colab": {
          "base_uri": "https://localhost:8080/"
        },
        "id": "BSnlyPu-JO_N",
        "outputId": "5ceeed5d-5666-48d2-acff-59070dc52f4f"
      },
      "execution_count": 15,
      "outputs": [
        {
          "output_type": "stream",
          "name": "stdout",
          "text": [
            "tommy is barking\n"
          ]
        }
      ]
    },
    {
      "cell_type": "markdown",
      "source": [
        "**Q2.** Name the four pillars of OOPs.\n",
        "\n",
        "**Ans:** Abstraction:\n",
        "Hides complex implementation details and exposes only essential information. This simplifies the user experience and allows for more manageable code.\n",
        "\n",
        "Encapsulation:\n",
        "Bundles data (attributes) and methods that operate on that data into a single unit (class or object). It also restricts access to internal data and methods, promoting data security and code organization.\n",
        "\n",
        "Inheritance:\n",
        "Enables a class (child class) to inherit attributes and methods from another class (parent class), promoting code reusability and hierarchical relationships between objects.\n",
        "\n",
        "Polymorphism:\n",
        "Allows objects of different classes to be treated as objects of a common type, enabling flexible and adaptable code. It can be achieved through method overloading or method overriding.\n"
      ],
      "metadata": {
        "id": "cMXMLNvZJUrh"
      }
    },
    {
      "cell_type": "markdown",
      "source": [
        "**Q3.** Explain why the __init__() function is used. Give a suitable example.\n",
        "\n",
        "**Ans:** The python __init__ method is declared within a class and is used to initialize the attributes of an object as soon as the object is formed. While giving the definition for an __init__(self) method, a default parameter, named 'self' is always passed in its argument. This self represents the object of the class itself.\n",
        "\n"
      ],
      "metadata": {
        "id": "gYs5mjg0KC9t"
      }
    },
    {
      "cell_type": "code",
      "source": [
        "class Dog:\n",
        "    species = \"Canine\"  # Class attribute\n",
        "\n",
        "    def __init__(self, name, age):\n",
        "        self.name = name  # Instance attribute\n",
        "        self.age = age  # Instance attribute"
      ],
      "metadata": {
        "id": "ius4i7pMKO--"
      },
      "execution_count": 16,
      "outputs": []
    },
    {
      "cell_type": "code",
      "source": [
        "d =Dog(\"tommy\", 2)"
      ],
      "metadata": {
        "id": "dtQT4oWEKR2E"
      },
      "execution_count": 17,
      "outputs": []
    },
    {
      "cell_type": "code",
      "source": [
        "d.age"
      ],
      "metadata": {
        "colab": {
          "base_uri": "https://localhost:8080/"
        },
        "id": "aFRaKwWnKWvV",
        "outputId": "81b572d3-70e3-4f6a-fba3-6134cf0ab7ed"
      },
      "execution_count": 18,
      "outputs": [
        {
          "output_type": "execute_result",
          "data": {
            "text/plain": [
              "2"
            ]
          },
          "metadata": {},
          "execution_count": 18
        }
      ]
    },
    {
      "cell_type": "code",
      "source": [
        "d.name"
      ],
      "metadata": {
        "colab": {
          "base_uri": "https://localhost:8080/",
          "height": 36
        },
        "id": "uc9LHHE7KbAy",
        "outputId": "3088c908-a3d9-4da9-ea41-019951479613"
      },
      "execution_count": 19,
      "outputs": [
        {
          "output_type": "execute_result",
          "data": {
            "text/plain": [
              "'tommy'"
            ],
            "application/vnd.google.colaboratory.intrinsic+json": {
              "type": "string"
            }
          },
          "metadata": {},
          "execution_count": 19
        }
      ]
    },
    {
      "cell_type": "markdown",
      "source": [
        "**Q4.** Why self is used in OOPs?\n",
        "\n",
        "**Ans:**  self parameter is a reference to the current instance of the class. It allows us to access the attributes and methods of the object."
      ],
      "metadata": {
        "id": "ycuLych1KfR-"
      }
    },
    {
      "cell_type": "markdown",
      "source": [
        "**Q5.** What is inheritance? Give an example for each type of inheritance.\n",
        "\n",
        "\n",
        "Inheritance allows us to define a class that inherits all the methods and properties from another class. Parent class is the class being inherited from, also called base class. Child class is the class that inherits from another class, also called derived class.\n",
        "\n",
        "types of inheritance:\n",
        "\n",
        "Single Inheritance: A derived class inherits from only one base class.\n",
        "\n",
        "Multiple Inheritance: A derived class inherits from multiple base classes.\n",
        "\n",
        "Multilevel Inheritance: A derived class inherits from a class that itself inherits from another class.\n",
        "\n",
        "Hierarchical Inheritance: Multiple derived classes inherit from a single base class.\n",
        "\n",
        "Hybrid Inheritance: A combination of multiple types of inheritance."
      ],
      "metadata": {
        "id": "sE1y3WnUKxvM"
      }
    },
    {
      "cell_type": "code",
      "source": [
        "class Animal: #single inheritance\n",
        "  def speak(self):\n",
        "    print(\"Generic animal sound\")\n",
        "class Dog(Animal):\n",
        "  def speak(self):\n",
        "    print(\"Woof!\")"
      ],
      "metadata": {
        "id": "zn93vmeNNMgn"
      },
      "execution_count": 29,
      "outputs": []
    },
    {
      "cell_type": "code",
      "source": [
        " dog = Dog()"
      ],
      "metadata": {
        "id": "KIxznA-oNcJd"
      },
      "execution_count": 34,
      "outputs": []
    },
    {
      "cell_type": "code",
      "source": [
        "dog.speak()"
      ],
      "metadata": {
        "colab": {
          "base_uri": "https://localhost:8080/"
        },
        "id": "gl_ehagyNcaa",
        "outputId": "3111401e-381a-4ce0-a386-6b494738e72b"
      },
      "execution_count": 36,
      "outputs": [
        {
          "output_type": "stream",
          "name": "stdout",
          "text": [
            "Woof!\n"
          ]
        }
      ]
    },
    {
      "cell_type": "code",
      "source": [
        "class Swimmer: #multiple inheritance\n",
        "  def swim(self):\n",
        "    print(\"Swimming\")\n",
        "\n",
        "class Flyer:\n",
        "  def fly(self):\n",
        "    print(\"Flying\")\n",
        "\n",
        "class FlyingFish(Swimmer, Flyer):\n",
        "       pass"
      ],
      "metadata": {
        "id": "7txVVXDXOFdH"
      },
      "execution_count": 38,
      "outputs": []
    },
    {
      "cell_type": "code",
      "source": [
        "fish = FlyingFish()"
      ],
      "metadata": {
        "id": "AavAsH65OMjm"
      },
      "execution_count": 39,
      "outputs": []
    },
    {
      "cell_type": "code",
      "source": [
        "fish.swim() # Output: Swimming"
      ],
      "metadata": {
        "colab": {
          "base_uri": "https://localhost:8080/"
        },
        "id": "wKWq68GTOeoY",
        "outputId": "cb3d819b-56b9-4231-897a-a4146237ada0"
      },
      "execution_count": 40,
      "outputs": [
        {
          "output_type": "stream",
          "name": "stdout",
          "text": [
            "Swimming\n"
          ]
        }
      ]
    },
    {
      "cell_type": "code",
      "source": [
        "fish.fly() # Output: Flying"
      ],
      "metadata": {
        "colab": {
          "base_uri": "https://localhost:8080/"
        },
        "id": "rHaigjLdOiZz",
        "outputId": "e5715d15-05c1-4c32-d7b6-18178e81c86d"
      },
      "execution_count": 41,
      "outputs": [
        {
          "output_type": "stream",
          "name": "stdout",
          "text": [
            "Flying\n"
          ]
        }
      ]
    },
    {
      "cell_type": "code",
      "source": [
        "class Grandparent: #multilevel in heritance\n",
        "  def grandparent_method(self):\n",
        "    print(\"Grandparent method\")\n",
        "class Parent(Grandparent):\n",
        "  def parent_method(self):\n",
        "    print(\"Parent method\")\n",
        "class Child(Parent):\n",
        "  def child_method(self):\n",
        "    print(\"Child method\")"
      ],
      "metadata": {
        "id": "wgB-8YT6Ouyx"
      },
      "execution_count": 43,
      "outputs": []
    },
    {
      "cell_type": "code",
      "source": [
        "child = Child()"
      ],
      "metadata": {
        "id": "MMFF-GJkO_UA"
      },
      "execution_count": 44,
      "outputs": []
    },
    {
      "cell_type": "code",
      "source": [
        "child.grandparent_method()"
      ],
      "metadata": {
        "colab": {
          "base_uri": "https://localhost:8080/"
        },
        "id": "ufBvQ5j5PBfW",
        "outputId": "3011f319-3fea-4e97-867c-1474b8e9c5eb"
      },
      "execution_count": 45,
      "outputs": [
        {
          "output_type": "stream",
          "name": "stdout",
          "text": [
            "Grandparent method\n"
          ]
        }
      ]
    },
    {
      "cell_type": "code",
      "source": [
        "child.parent_method()"
      ],
      "metadata": {
        "colab": {
          "base_uri": "https://localhost:8080/"
        },
        "id": "SKE0gMnAPFw1",
        "outputId": "ac9fd9ac-6708-4f17-f000-f3431d8d1417"
      },
      "execution_count": 46,
      "outputs": [
        {
          "output_type": "stream",
          "name": "stdout",
          "text": [
            "Parent method\n"
          ]
        }
      ]
    },
    {
      "cell_type": "code",
      "source": [
        " child.child_method()"
      ],
      "metadata": {
        "colab": {
          "base_uri": "https://localhost:8080/"
        },
        "id": "OnkFZHp_PIZz",
        "outputId": "239bdae5-0430-4ed1-87a6-93f573bf13f3"
      },
      "execution_count": 47,
      "outputs": [
        {
          "output_type": "stream",
          "name": "stdout",
          "text": [
            "Child method\n"
          ]
        }
      ]
    },
    {
      "cell_type": "code",
      "source": [
        "class Vehicle: #Hierarchical Inheritance\n",
        "  def move(self):\n",
        "    print(\"Vehicle moving\")\n",
        "\n",
        "class Car(Vehicle):\n",
        "  def drive(self):\n",
        "    print(\"Car driving\")\n",
        "\n",
        "class Bike(Vehicle):\n",
        "  def pedal(self):\n",
        "    print(\"Bike pedaling\")"
      ],
      "metadata": {
        "id": "QpgyAaTNPIqe"
      },
      "execution_count": 49,
      "outputs": []
    },
    {
      "cell_type": "code",
      "source": [
        "car = Car()"
      ],
      "metadata": {
        "id": "xmom0mbUPbI9"
      },
      "execution_count": 50,
      "outputs": []
    },
    {
      "cell_type": "code",
      "source": [
        "bike = Bike()"
      ],
      "metadata": {
        "id": "wDTCs0OkPh-0"
      },
      "execution_count": 51,
      "outputs": []
    },
    {
      "cell_type": "code",
      "source": [
        "car.move()"
      ],
      "metadata": {
        "colab": {
          "base_uri": "https://localhost:8080/"
        },
        "id": "M60wpr4EPl_C",
        "outputId": "01f8cc9e-4f34-4aca-a3ed-33e57a6f05a6"
      },
      "execution_count": 52,
      "outputs": [
        {
          "output_type": "stream",
          "name": "stdout",
          "text": [
            "Vehicle moving\n"
          ]
        }
      ]
    },
    {
      "cell_type": "code",
      "source": [
        "bike.move()"
      ],
      "metadata": {
        "colab": {
          "base_uri": "https://localhost:8080/"
        },
        "id": "0nO5RBSTPpLa",
        "outputId": "33f5d8ba-beb7-4290-9741-9b12bbbfa7ee"
      },
      "execution_count": 53,
      "outputs": [
        {
          "output_type": "stream",
          "name": "stdout",
          "text": [
            "Vehicle moving\n"
          ]
        }
      ]
    },
    {
      "cell_type": "code",
      "source": [
        "class A:\n",
        "  def method_a(self):\n",
        "    print(\"Method A\")\n",
        "\n",
        "class B(A):\n",
        "  def method_b(self):\n",
        "    print(\"Method B\")\n",
        "\n",
        "class C(A):\n",
        "  def method_c(self):\n",
        "    print(\"Method C\")\n",
        "\n",
        "class D(B, C):\n",
        "  def method_d(self):\n",
        "    print(\"Method D\")"
      ],
      "metadata": {
        "id": "SrMBF1onPzLj"
      },
      "execution_count": 55,
      "outputs": []
    },
    {
      "cell_type": "code",
      "source": [
        "d = D()"
      ],
      "metadata": {
        "id": "1tdOAsZkPzas"
      },
      "execution_count": 56,
      "outputs": []
    },
    {
      "cell_type": "code",
      "source": [
        "d.method_a()"
      ],
      "metadata": {
        "colab": {
          "base_uri": "https://localhost:8080/"
        },
        "id": "8koP8cNRQF-u",
        "outputId": "81f095bc-0881-465c-ea1d-367055be579d"
      },
      "execution_count": 57,
      "outputs": [
        {
          "output_type": "stream",
          "name": "stdout",
          "text": [
            "Method A\n"
          ]
        }
      ]
    },
    {
      "cell_type": "code",
      "source": [
        "d.method_b()"
      ],
      "metadata": {
        "colab": {
          "base_uri": "https://localhost:8080/"
        },
        "id": "Bx3s_bTVQGIE",
        "outputId": "f97c983b-df29-497c-b7ae-2735832c7c6c"
      },
      "execution_count": 58,
      "outputs": [
        {
          "output_type": "stream",
          "name": "stdout",
          "text": [
            "Method B\n"
          ]
        }
      ]
    },
    {
      "cell_type": "code",
      "source": [
        "d.method_c()"
      ],
      "metadata": {
        "colab": {
          "base_uri": "https://localhost:8080/"
        },
        "id": "_QdGpBO6QGLT",
        "outputId": "bd9b4db9-854e-461f-d021-614ff0bc81b8"
      },
      "execution_count": 59,
      "outputs": [
        {
          "output_type": "stream",
          "name": "stdout",
          "text": [
            "Method C\n"
          ]
        }
      ]
    },
    {
      "cell_type": "code",
      "source": [
        "d.method_d()"
      ],
      "metadata": {
        "id": "7OevmAL6QUQi",
        "outputId": "bf96df07-0af1-4683-f592-ce3c7692360e",
        "colab": {
          "base_uri": "https://localhost:8080/"
        }
      },
      "execution_count": 60,
      "outputs": [
        {
          "output_type": "stream",
          "name": "stdout",
          "text": [
            "Method D\n"
          ]
        }
      ]
    }
  ]
}