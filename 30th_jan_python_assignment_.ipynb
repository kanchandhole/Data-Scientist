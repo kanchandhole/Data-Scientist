{
  "nbformat": 4,
  "nbformat_minor": 0,
  "metadata": {
    "colab": {
      "provenance": [],
      "authorship_tag": "ABX9TyM/o88/veXBx8pbzVbKA6/J",
      "include_colab_link": true
    },
    "kernelspec": {
      "name": "python3",
      "display_name": "Python 3"
    },
    "language_info": {
      "name": "python"
    }
  },
  "cells": [
    {
      "cell_type": "markdown",
      "metadata": {
        "id": "view-in-github",
        "colab_type": "text"
      },
      "source": [
        "<a href=\"https://colab.research.google.com/github/kanchandhole/Data-Scientist/blob/main/30th_jan_python_assignment_.ipynb\" target=\"_parent\"><img src=\"https://colab.research.google.com/assets/colab-badge.svg\" alt=\"Open In Colab\"/></a>"
      ]
    },
    {
      "cell_type": "code",
      "execution_count": null,
      "metadata": {
        "colab": {
          "base_uri": "https://localhost:8080/"
        },
        "id": "Tro2Vm6H5O2W",
        "outputId": "9104060c-1d98-471e-b943-ed8439e6fdf9"
      },
      "outputs": [
        {
          "output_type": "stream",
          "name": "stdout",
          "text": [
            "Enter the Name:kanchan\n",
            "Enter the Percentage:95\n",
            "A\n"
          ]
        }
      ],
      "source": [
        "#Q1 Ans:\n",
        "Name = input(\"Enter the Name:\")\n",
        "Percentage = int(input(\"Enter the Percentage:\"))\n",
        "if Percentage >90:\n",
        "  print(\"A\")\n",
        "elif Percentage >80 and Percentage <=90:\n",
        "  print(\"B\")\n",
        "elif Percentage >=60 and Percentage <=80:\n",
        "  print(\"C\")\n",
        "else:\n",
        "  print(\"D\")"
      ]
    },
    {
      "cell_type": "code",
      "source": [
        "#Q2 ans:\n",
        "cost_price = int(input(\"Enter the cost price of bike:\"))\n",
        "if cost_price > 100000:\n",
        "  print(\"Tax is 10%\")\n",
        "elif cost_price >50000 and cost_price <=100000:\n",
        "  print(\"Tax is 5%\")\n",
        "else:\n",
        "  print(\"Tax is 5%\")"
      ],
      "metadata": {
        "colab": {
          "base_uri": "https://localhost:8080/"
        },
        "id": "IN6-RmNv6Mok",
        "outputId": "6419b295-4843-427d-85bd-c4502f5b3378"
      },
      "execution_count": null,
      "outputs": [
        {
          "output_type": "stream",
          "name": "stdout",
          "text": [
            "Enter the cost price of bike:50000\n",
            "Tax is 5%\n"
          ]
        }
      ]
    },
    {
      "cell_type": "code",
      "source": [
        "#Q3.\n",
        "City = input(\"Enter the city:\")\n",
        "if City == \"Dehli\":\n",
        "  print(\"Monument is Red Fort\")\n",
        "elif City == \"Agra\":\n",
        "  print(\"Monument is Taj Mahal\")\n",
        "elif City == \"Jaipur\":\n",
        "  print(\"Monument is Jal Mahal\")\n",
        "else:\n",
        "  print(\"Enter valid city\")"
      ],
      "metadata": {
        "colab": {
          "base_uri": "https://localhost:8080/"
        },
        "id": "K2KKPnAy8MOG",
        "outputId": "6cf0ae10-cb0b-47f6-f874-2391ae944e15"
      },
      "execution_count": null,
      "outputs": [
        {
          "output_type": "stream",
          "name": "stdout",
          "text": [
            "Enter the city:Dehli\n",
            "Monument is Red Fort\n"
          ]
        }
      ]
    },
    {
      "cell_type": "code",
      "source": [
        "#Q4.\n",
        "Num = int(input(\"Enter the Number:\"))\n",
        "count = 0\n",
        "while Num >10:\n",
        "  Num = Num/3\n",
        "  count +=1\n",
        "print(count)\n",
        "print(Num)"
      ],
      "metadata": {
        "colab": {
          "base_uri": "https://localhost:8080/"
        },
        "id": "l4q4pPm99LbP",
        "outputId": "0fbb0227-f735-4c65-f05d-db0dc386cb3a"
      },
      "execution_count": null,
      "outputs": [
        {
          "output_type": "stream",
          "name": "stdout",
          "text": [
            "Enter the Number:225\n",
            "3\n",
            "8.333333333333334\n"
          ]
        }
      ]
    },
    {
      "cell_type": "markdown",
      "source": [
        "**Q5.** why and when to use while loop in python give a detailed description with example\n",
        "\n",
        "**Ans:** Why use a while loop?\n",
        "\n",
        "A while loop repeats a block of code as long as a condition remains true. Use it when you do not know up front how many iterations you need and the loop should continue until some dynamic condition is met.\n",
        "\n",
        "Key points\n",
        "\n",
        "Best for condition-driven repetition (not index-driven).\n",
        "\n",
        "Useful when the number of iterations depends on runtime input, external resources, or changing state.\n",
        "\n",
        "Provides more flexible stop conditions than a for loop.\n",
        "\n",
        "When to use a while loop (common scenarios)\n",
        "\n",
        "Input validation / prompting user until valid input\n",
        "\n",
        "Keep asking until the user enters acceptable data.\n",
        "\n",
        "Polling / waiting for an external event\n",
        "\n",
        "Poll an API or wait for a file/flag to appear (often with time.sleep).\n",
        "\n",
        "Retry logic\n",
        "\n",
        "Retry an operation (e.g., network request) until success or max attempts.\n",
        "\n",
        "Processing streams when termination condition is based on content\n",
        "\n",
        "Read and process until a sentinel value (e.g., None or 'END') or EOF.\n",
        "\n",
        "State-driven loops\n",
        "\n",
        "Game loops, menu loops, or state machines where transitions determine continuation.\n",
        "\n",
        "Implementing algorithms that naturally use loops until convergence\n",
        "\n",
        "E.g., iterative numerical methods (stop when change < tolerance).\n",
        "\n",
        "Basic syntax\n",
        "while condition:\n",
        "    # body (runs while condition is True)\n",
        "else:\n",
        "    # optional else block runs when loop exits normally (no break)"
      ],
      "metadata": {
        "id": "JvzwTEmtXwkG"
      }
    },
    {
      "cell_type": "code",
      "source": [
        "#Example 1 — Input validation (user must enter integer 1–10)\n",
        "\n",
        "while True:\n",
        "    s = input(\"Enter a number between 1 and 10: \")\n",
        "    if not s.isdigit():\n",
        "        print(\"That's not a number — try again.\")\n",
        "        continue\n",
        "    n = int(s)\n",
        "    if 1 <= n <= 10:\n",
        "        print(\"Thanks, got\", n)\n",
        "        break\n",
        "    print(\"Number out of range, try again.\")\n"
      ],
      "metadata": {
        "id": "B4R3z-Bfm7Ry",
        "colab": {
          "base_uri": "https://localhost:8080/"
        },
        "outputId": "d9e06b21-d418-477b-f812-de91563434ee"
      },
      "execution_count": 1,
      "outputs": [
        {
          "output_type": "stream",
          "name": "stdout",
          "text": [
            "Enter a number between 1 and 10: 5\n",
            "Thanks, got 5\n"
          ]
        }
      ]
    },
    {
      "cell_type": "markdown",
      "source": [
        "**Q6.** use nested while loop to print 3 different pattern."
      ],
      "metadata": {
        "id": "H55bTYc3YkBH"
      }
    },
    {
      "cell_type": "code",
      "source": [
        "# Pattern 1: Right-angled Triangle\n",
        "rows = 5\n",
        "i = 1\n",
        "while i <= rows:          # Outer loop → number of rows\n",
        "    j = 1\n",
        "    while j <= i:         # Inner loop → print stars in each row\n",
        "        print(\"*\", end=\" \")\n",
        "        j += 1\n",
        "    print()               # Move to next line\n",
        "    i += 1\n"
      ],
      "metadata": {
        "colab": {
          "base_uri": "https://localhost:8080/"
        },
        "id": "Y9GB-STHZCWx",
        "outputId": "850c283c-f220-4f25-f2a0-a58ba502c7e4"
      },
      "execution_count": 2,
      "outputs": [
        {
          "output_type": "stream",
          "name": "stdout",
          "text": [
            "* \n",
            "* * \n",
            "* * * \n",
            "* * * * \n",
            "* * * * * \n"
          ]
        }
      ]
    },
    {
      "cell_type": "code",
      "source": [
        "# Pattern 2: Inverted Triangle\n",
        "rows = 5\n",
        "i = rows\n",
        "while i >= 1:             # Outer loop (start from 5 down to 1)\n",
        "    j = 1\n",
        "    while j <= i:         # Inner loop prints decreasing stars\n",
        "        print(\"*\", end=\" \")\n",
        "        j += 1\n",
        "    print()\n",
        "    i -= 1"
      ],
      "metadata": {
        "colab": {
          "base_uri": "https://localhost:8080/"
        },
        "id": "GVAWOHykZEFg",
        "outputId": "4ca7db48-810b-4011-814f-4e91947e8547"
      },
      "execution_count": 3,
      "outputs": [
        {
          "output_type": "stream",
          "name": "stdout",
          "text": [
            "* * * * * \n",
            "* * * * \n",
            "* * * \n",
            "* * \n",
            "* \n"
          ]
        }
      ]
    },
    {
      "cell_type": "code",
      "source": [
        "# Pattern 3: Pyramid Pattern\n",
        "rows = 5\n",
        "i = 1\n",
        "while i <= rows:\n",
        "    # Print spaces\n",
        "    space = rows - i\n",
        "    while space > 0:\n",
        "        print(\" \", end=\" \")\n",
        "        space -= 1\n",
        "\n",
        "    # Print stars\n",
        "    j = 1\n",
        "    while j <= i:\n",
        "        print(\"*\", end=\" \")\n",
        "        j += 1\n",
        "\n",
        "    print()\n",
        "    i += 1\n"
      ],
      "metadata": {
        "colab": {
          "base_uri": "https://localhost:8080/"
        },
        "id": "4i3JEgeLZJv1",
        "outputId": "c8134d51-a5ab-4002-aba5-995606c0a680"
      },
      "execution_count": 4,
      "outputs": [
        {
          "output_type": "stream",
          "name": "stdout",
          "text": [
            "        * \n",
            "      * * \n",
            "    * * * \n",
            "  * * * * \n",
            "* * * * * \n"
          ]
        }
      ]
    },
    {
      "cell_type": "markdown",
      "source": [
        "**Q7.Q8.** reverse a while loop to display number from 10 to 1"
      ],
      "metadata": {
        "id": "EDzev7LGZNBe"
      }
    },
    {
      "cell_type": "code",
      "source": [
        "# Reverse while loop to print numbers from 10 to 1\n",
        "\n",
        "num = 10              # Start from 10\n",
        "while num >= 1:       # Continue until num is greater than or equal to 1\n",
        "    print(num , end=\" \")\n",
        "    num -= 1          # Decrease the value by 1 in each iteration"
      ],
      "metadata": {
        "colab": {
          "base_uri": "https://localhost:8080/"
        },
        "id": "XtsC5SOOZkxp",
        "outputId": "bc4b450f-3f5b-4418-f485-94c7f370297f"
      },
      "execution_count": 6,
      "outputs": [
        {
          "output_type": "stream",
          "name": "stdout",
          "text": [
            "10 9 8 7 6 5 4 3 2 1 "
          ]
        }
      ]
    }
  ]
}