{
  "nbformat": 4,
  "nbformat_minor": 0,
  "metadata": {
    "colab": {
      "provenance": [],
      "authorship_tag": "ABX9TyPb2zqL2fIRI1Po6xXoFBwr",
      "include_colab_link": true
    },
    "kernelspec": {
      "name": "python3",
      "display_name": "Python 3"
    },
    "language_info": {
      "name": "python"
    }
  },
  "cells": [
    {
      "cell_type": "markdown",
      "metadata": {
        "id": "view-in-github",
        "colab_type": "text"
      },
      "source": [
        "<a href=\"https://colab.research.google.com/github/kanchandhole/Data-Scientist/blob/main/02_feb_ass_tuple.ipynb\" target=\"_parent\"><img src=\"https://colab.research.google.com/assets/colab-badge.svg\" alt=\"Open In Colab\"/></a>"
      ]
    },
    {
      "cell_type": "markdown",
      "source": [
        "**Q1.** What are the characteristics of the tuples? Is tuple immutable?\n",
        "\n",
        "**Ans:-**\n",
        "Tuples work as containers, which means you can store the data in them.\n",
        "\n",
        "tuples are immutable, meaning their contents cannot be changed after creation."
      ],
      "metadata": {
        "id": "bz0vnualIFUX"
      }
    },
    {
      "cell_type": "markdown",
      "source": [
        "**Q2.** What are the two tuple methods in python? Give an example of each method. Give a reason why\n",
        "tuples have only two in-built methods as compared to Lists.\n",
        "\n",
        "**Ans:**\n",
        "The two in-built methods for Python tuples are count() and index().\n",
        "\n",
        " count() returns the number of times a specific value appears in the tuple.\n",
        "\n",
        " index() returns the position (index) of the first occurrence of a specified value."
      ],
      "metadata": {
        "id": "Rmb9nG1PIhQ0"
      }
    },
    {
      "cell_type": "code",
      "source": [
        "my_tuple = (1, 2, 3, 2, 5, 2)\n",
        "count = my_tuple.count(2)  # count will be 3 (2 appears 3 times)\n",
        "print(count)"
      ],
      "metadata": {
        "colab": {
          "base_uri": "https://localhost:8080/"
        },
        "id": "i3bIn5O4I44O",
        "outputId": "0c87013b-2298-4cb4-915b-d3be962f0773"
      },
      "execution_count": 2,
      "outputs": [
        {
          "output_type": "stream",
          "name": "stdout",
          "text": [
            "3\n"
          ]
        }
      ]
    },
    {
      "cell_type": "code",
      "source": [
        "my_tuple = (1, 2, 3, 2, 5, 2)\n",
        "index = my_tuple.index(2)  # index will be 1 (2 first appears at index 1)\n",
        "print(index)"
      ],
      "metadata": {
        "colab": {
          "base_uri": "https://localhost:8080/"
        },
        "id": "p5ALcSLMJHgP",
        "outputId": "b16c2c59-46c6-4ae8-b74e-905e068a7714"
      },
      "execution_count": 3,
      "outputs": [
        {
          "output_type": "stream",
          "name": "stdout",
          "text": [
            "1\n"
          ]
        }
      ]
    },
    {
      "cell_type": "markdown",
      "source": [
        "**Q3.** Which collection datatypes in python do not allow duplicate items? Write a code using a set to remove\n",
        "duplicates from the given list.\n",
        "List = [1, 1, 1, 2, 1, 3, 1, 4, 2, 1, 2, 2, 2, 3, 2, 4, 3, 1, 3, 2, 3, 3, 3, 4, 4, 1, 4, 2, 4, 3, 4, 4]\n",
        "\n",
        "**Ans-** set is not allow duplicate item"
      ],
      "metadata": {
        "id": "O6eZvr0rJRO7"
      }
    },
    {
      "cell_type": "code",
      "source": [
        "l1 = [1, 1, 1, 2, 1, 3, 1, 4, 2, 1, 2, 2, 2, 3, 2, 4, 3, 1, 3, 2, 3, 3, 3, 4, 4, 1, 4, 2, 4, 3, 4, 4]"
      ],
      "metadata": {
        "id": "s8d-WhOXJZ-A"
      },
      "execution_count": 4,
      "outputs": []
    },
    {
      "cell_type": "code",
      "source": [
        "l2 = set((l1))"
      ],
      "metadata": {
        "id": "Q_lLlvVoJfRn"
      },
      "execution_count": 5,
      "outputs": []
    },
    {
      "cell_type": "code",
      "source": [
        "l2"
      ],
      "metadata": {
        "colab": {
          "base_uri": "https://localhost:8080/"
        },
        "id": "xtXG9P5DJlQq",
        "outputId": "abdda907-014d-4520-f372-b9c1776a0963"
      },
      "execution_count": 6,
      "outputs": [
        {
          "output_type": "execute_result",
          "data": {
            "text/plain": [
              "{1, 2, 3, 4}"
            ]
          },
          "metadata": {},
          "execution_count": 6
        }
      ]
    },
    {
      "cell_type": "code",
      "source": [
        "l1 = list((l2))\n",
        "print(l1)"
      ],
      "metadata": {
        "colab": {
          "base_uri": "https://localhost:8080/"
        },
        "id": "S3x-Q64rJrtb",
        "outputId": "6e2b867f-f3a9-43c4-dfdc-bb38d925372b"
      },
      "execution_count": 8,
      "outputs": [
        {
          "output_type": "stream",
          "name": "stdout",
          "text": [
            "[1, 2, 3, 4]\n"
          ]
        }
      ]
    },
    {
      "cell_type": "markdown",
      "source": [
        "**Q4.**Explain the difference between the union() and update() methods for a set. Give an example of\n",
        "each method.\n",
        "\n",
        "**Ans:**\n",
        "The main difference between union() and update() in Python sets is that union() returns a new set containing the combined elements of both sets, while update() modifies the original set by adding elements from the other set.\n",
        "\n",
        "union() does not alter the original set, whereas update() does.\n"
      ],
      "metadata": {
        "id": "fHN-8Q8bKCHI"
      }
    },
    {
      "cell_type": "code",
      "source": [
        "set1 = {1, 2, 3}\n",
        "set2 = {3, 4, 5}\n",
        "new_set = set1.union(set2)  # or set1 | set2\n",
        "print(new_set)  # Output: {1, 2, 3, 4, 5}\n",
        "print(set1)  # Output: {1, 2, 3} (original set unchanged)"
      ],
      "metadata": {
        "colab": {
          "base_uri": "https://localhost:8080/"
        },
        "id": "GuoGDemGKAyZ",
        "outputId": "2cf572ea-ca47-4909-c78c-de7642a62efb"
      },
      "execution_count": 9,
      "outputs": [
        {
          "output_type": "stream",
          "name": "stdout",
          "text": [
            "{1, 2, 3, 4, 5}\n",
            "{1, 2, 3}\n"
          ]
        }
      ]
    },
    {
      "cell_type": "code",
      "source": [
        "set1 = {1, 2, 3}\n",
        "set2 = {3, 4, 5}\n",
        "set1.update(set2)  # set1 is changed in place\n",
        "print(set1)\n",
        "print(set2)"
      ],
      "metadata": {
        "colab": {
          "base_uri": "https://localhost:8080/"
        },
        "id": "549MI5lDKBD0",
        "outputId": "8748881d-eb25-4e15-8c80-0ee2e60d9c29"
      },
      "execution_count": 10,
      "outputs": [
        {
          "output_type": "stream",
          "name": "stdout",
          "text": [
            "{1, 2, 3, 4, 5}\n",
            "{3, 4, 5}\n"
          ]
        }
      ]
    },
    {
      "cell_type": "markdown",
      "source": [
        "**Q5.**What is a dictionary? Give an example. Also, state whether a dictionary is ordered or unordered.\n",
        "\n",
        "**Ans:** A dictionary is a data structure that stores key-value pairs. It's used to map keys to corresponding values, allowing for efficient lookups based on the keys. In Python, dictionaries are unordered until Python 3.7, where they became ordered."
      ],
      "metadata": {
        "id": "SEKF_00UKCKb"
      }
    },
    {
      "cell_type": "code",
      "source": [
        "di ={\"name\" : 'kanchna', \"address\" : \"pune\", \"email_id\" : \"kanchan12@gmail.com\"}"
      ],
      "metadata": {
        "id": "4rPBKu01LhJU"
      },
      "execution_count": 18,
      "outputs": []
    },
    {
      "cell_type": "code",
      "source": [
        "di"
      ],
      "metadata": {
        "colab": {
          "base_uri": "https://localhost:8080/"
        },
        "id": "9NqqqGCmL5m9",
        "outputId": "fb329420-b5ac-4b60-c967-c064d629b15c"
      },
      "execution_count": 19,
      "outputs": [
        {
          "output_type": "execute_result",
          "data": {
            "text/plain": [
              "{'name': 'kanchna', 'address': 'pune', 'email_id': 'kanchan12@gmail.com'}"
            ]
          },
          "metadata": {},
          "execution_count": 19
        }
      ]
    },
    {
      "cell_type": "markdown",
      "source": [
        "**Q6.**Can we create a nested dictionary? If so, please give an example by creating a simple one-level\n",
        "nested dictionary.\n",
        "\n",
        "**Ans:** Yes, you can create a nested dictionary in Python."
      ],
      "metadata": {
        "id": "NRIWWldEMT2U"
      }
    },
    {
      "cell_type": "code",
      "source": [
        "student = {101 : {\"Name\":\"kanchan\" , \"address\":\"pune\",\"email_id\":'kanchan123@gail.com'},\n",
        "           102 : {\"Name\":\"priya\" , \"address\":\"mumbai\",\"email_id\":'priya@gail.com'},\n",
        "           103: {\"Name\":\"rohit\" , \"address\":\"nagpur\",\"email_id\":'rohit13@gail.com'},\n",
        "           104 : {\"Name\":\"chetn\" , \"address\":\"nashik\",\"email_id\":'chent12@gail.com'}}"
      ],
      "metadata": {
        "id": "9RvfF4hOMhTQ"
      },
      "execution_count": 30,
      "outputs": []
    },
    {
      "cell_type": "markdown",
      "source": [
        "**Q7.** Using setdefault() method, create key named topics in the given dictionary and also add the value of\n",
        "the key as this list ['Python', 'Machine Learning’, 'Deep Learning']\n",
        "dict1 = {'language' : 'Python', 'course': 'Data Science Masters'}"
      ],
      "metadata": {
        "id": "NuGq9GLHOgC9"
      }
    },
    {
      "cell_type": "code",
      "source": [
        "dict1 = {'language': 'Python', 'course': 'Data Science Masters'}\n",
        "dict1.setdefault('topics', ['Python', 'Machine Learning', 'Deep Learning'])\n",
        "print(dict1)"
      ],
      "metadata": {
        "colab": {
          "base_uri": "https://localhost:8080/"
        },
        "id": "bKzUQb58O5ys",
        "outputId": "4b7df774-9f44-46a4-ee19-88c472a6d59b"
      },
      "execution_count": 35,
      "outputs": [
        {
          "output_type": "stream",
          "name": "stdout",
          "text": [
            "{'language': 'Python', 'course': 'Data Science Masters', 'topics': ['Python', 'Machine Learning', 'Deep Learning']}\n"
          ]
        }
      ]
    },
    {
      "cell_type": "markdown",
      "source": [
        "**Q8.** What are the three view objects in dictionaries? Use the three in-built methods in python to display\n",
        "these three view objects for the given dictionary.\n",
        "dict1 = {'Sport': 'Cricket' , 'Teams': ['India', 'Australia', 'England', 'South Africa', 'Sri Lanka', 'New Zealand']}\n",
        "\n",
        "Ans: In Python, there are three dictionary view objects: keys() — shows us all the keys of a given dictionary, as a sequence. values() — shows us all values of a dictionary, as a sequence. items() — shows us all the key-value pairs of a dictionary, once again as a sequence.\n"
      ],
      "metadata": {
        "id": "JhxPWV9kOtD3"
      }
    },
    {
      "cell_type": "code",
      "source": [
        "dict1 = {'Sport': 'Cricket' , 'Teams': ['India', 'Australia', 'England', 'South Africa', 'Sri Lanka', 'New Zealand']}"
      ],
      "metadata": {
        "id": "dwNRJOXhPh8x"
      },
      "execution_count": 36,
      "outputs": []
    },
    {
      "cell_type": "code",
      "source": [
        "dict1"
      ],
      "metadata": {
        "colab": {
          "base_uri": "https://localhost:8080/"
        },
        "id": "-VtKSDMRPm-4",
        "outputId": "bd3265d1-96b3-4b2d-ac56-873404e9642f"
      },
      "execution_count": 37,
      "outputs": [
        {
          "output_type": "execute_result",
          "data": {
            "text/plain": [
              "{'Sport': 'Cricket',\n",
              " 'Teams': ['India',\n",
              "  'Australia',\n",
              "  'England',\n",
              "  'South Africa',\n",
              "  'Sri Lanka',\n",
              "  'New Zealand']}"
            ]
          },
          "metadata": {},
          "execution_count": 37
        }
      ]
    },
    {
      "cell_type": "code",
      "source": [
        "dict1.keys()"
      ],
      "metadata": {
        "colab": {
          "base_uri": "https://localhost:8080/"
        },
        "id": "-o9X0E1pPw6T",
        "outputId": "398469ec-cf19-4931-c84b-5f97f524db08"
      },
      "execution_count": 38,
      "outputs": [
        {
          "output_type": "execute_result",
          "data": {
            "text/plain": [
              "dict_keys(['Sport', 'Teams'])"
            ]
          },
          "metadata": {},
          "execution_count": 38
        }
      ]
    },
    {
      "cell_type": "code",
      "source": [
        "dict1.values()"
      ],
      "metadata": {
        "colab": {
          "base_uri": "https://localhost:8080/"
        },
        "id": "F6r9mWerP0qq",
        "outputId": "7e9ec4a0-ffdb-4abf-db32-c99aa7e0a9de"
      },
      "execution_count": 39,
      "outputs": [
        {
          "output_type": "execute_result",
          "data": {
            "text/plain": [
              "dict_values(['Cricket', ['India', 'Australia', 'England', 'South Africa', 'Sri Lanka', 'New Zealand']])"
            ]
          },
          "metadata": {},
          "execution_count": 39
        }
      ]
    },
    {
      "cell_type": "code",
      "source": [
        "dict1.items()"
      ],
      "metadata": {
        "colab": {
          "base_uri": "https://localhost:8080/"
        },
        "id": "yLoOuDTbP5v9",
        "outputId": "b97e30d0-4938-4458-b7a7-1ace07bc7d6d"
      },
      "execution_count": 40,
      "outputs": [
        {
          "output_type": "execute_result",
          "data": {
            "text/plain": [
              "dict_items([('Sport', 'Cricket'), ('Teams', ['India', 'Australia', 'England', 'South Africa', 'Sri Lanka', 'New Zealand'])])"
            ]
          },
          "metadata": {},
          "execution_count": 40
        }
      ]
    }
  ]
}