{
  "nbformat": 4,
  "nbformat_minor": 0,
  "metadata": {
    "colab": {
      "provenance": [],
      "authorship_tag": "ABX9TyM7C95txvfdzLYfkg60Nlch",
      "include_colab_link": true
    },
    "kernelspec": {
      "name": "python3",
      "display_name": "Python 3"
    },
    "language_info": {
      "name": "python"
    }
  },
  "cells": [
    {
      "cell_type": "markdown",
      "metadata": {
        "id": "view-in-github",
        "colab_type": "text"
      },
      "source": [
        "<a href=\"https://colab.research.google.com/github/kanchandhole/Data-Scientist/blob/main/03_feb_assignment_function.ipynb\" target=\"_parent\"><img src=\"https://colab.research.google.com/assets/colab-badge.svg\" alt=\"Open In Colab\"/></a>"
      ]
    },
    {
      "cell_type": "markdown",
      "source": [
        "**Q1.** Which keyword is used to create a function? Create a function to return a list of odd numbers in the\n",
        "range of 1 to 25.\n",
        "\n",
        "**Ans:** def keyword use to create a function.def: It is a keyword that is used to define (declare) a function."
      ],
      "metadata": {
        "id": "THqEWi6LTYzD"
      }
    },
    {
      "cell_type": "code",
      "source": [
        "def odd_numbers():\n",
        "    odd_list =[]\n",
        "    for i in range(1 ,26):\n",
        "      if i % 2 != 0:\n",
        "       odd_list.append(i)\n",
        "    return odd_list"
      ],
      "metadata": {
        "id": "E_wtEfOrVVnc"
      },
      "execution_count": null,
      "outputs": []
    },
    {
      "cell_type": "code",
      "source": [
        "odd_numbers()"
      ],
      "metadata": {
        "colab": {
          "base_uri": "https://localhost:8080/"
        },
        "id": "vp8VoIqobslh",
        "outputId": "b68737da-8e68-42e9-ac17-8c967dfab7e8"
      },
      "execution_count": null,
      "outputs": [
        {
          "output_type": "execute_result",
          "data": {
            "text/plain": [
              "[1, 3, 5, 7, 9, 11, 13, 15, 17, 19, 21, 23, 25]"
            ]
          },
          "metadata": {},
          "execution_count": 60
        }
      ]
    },
    {
      "cell_type": "markdown",
      "source": [
        "**Q2.** Why *args and **kwargs is used in some functions? Create a function each for *args and **kwargs to\n",
        "demonstrate their use.\n",
        "\n",
        "**Ans:** *args : arbitary arguments use for when we do not know how many arguments we want to add that args use.\n",
        "\n",
        "**kwargs : keyword arguments use for when we want add multiple keyword in function that time kwargs use"
      ],
      "metadata": {
        "id": "bF3cp2YTcym0"
      }
    },
    {
      "cell_type": "code",
      "source": [
        "def arb_example(*child):\n",
        "  print(\"the oldest child\", child[2])"
      ],
      "metadata": {
        "id": "a7QCVEZZd4He"
      },
      "execution_count": null,
      "outputs": []
    },
    {
      "cell_type": "code",
      "source": [
        "arb_example(\"riya\", \"piya\", \"neha\")"
      ],
      "metadata": {
        "colab": {
          "base_uri": "https://localhost:8080/"
        },
        "id": "Y2WvsTmneRXI",
        "outputId": "b4ac1ae8-ca4c-45c5-96c4-866a8b72fe79"
      },
      "execution_count": null,
      "outputs": [
        {
          "output_type": "stream",
          "name": "stdout",
          "text": [
            "the oldest child neha\n"
          ]
        }
      ]
    },
    {
      "cell_type": "code",
      "source": [
        "def keyword_example(**child):\n",
        "  print(\"the oldest child age:\", child[\"age\"])"
      ],
      "metadata": {
        "id": "9QEs2THxeapD"
      },
      "execution_count": null,
      "outputs": []
    },
    {
      "cell_type": "code",
      "source": [
        "keyword_example(name = \"riya\", age = 20)"
      ],
      "metadata": {
        "colab": {
          "base_uri": "https://localhost:8080/"
        },
        "id": "3CQvFdcQeeNV",
        "outputId": "b503ba1c-aa07-4416-d912-66d3238d6467"
      },
      "execution_count": null,
      "outputs": [
        {
          "output_type": "stream",
          "name": "stdout",
          "text": [
            "the oldest child age: 20\n"
          ]
        }
      ]
    },
    {
      "cell_type": "markdown",
      "source": [
        "**Q3.** What is an iterator in python? Name the method used to initialise the iterator object and the method\n",
        "used for iteration. Use these methods to print the first five elements of the given list [2, 4, 6, 8, 10, 12, 14, 16,\n",
        "18, 20].\n",
        "\n",
        "**ans:** An iterator in Python is an object that enables traversal through a collection of elements, such as lists, tuples, dictionaries, and sets, one at a time. It provides a way to access elements sequentially without exposing the underlying data structure.\n",
        "\n",
        "Iterator Protocol:\n",
        "Iterators implement the iterator protocol, which consists of two essential methods:\n",
        "__iter__(): Returns the iterator object itself.\n",
        "__next__(): Returns the next element in the sequence. When there are no more elements, it raises a StopIteration exception."
      ],
      "metadata": {
        "id": "VsZi20YEe2En"
      }
    },
    {
      "cell_type": "code",
      "source": [
        "l1 =  [2, 4, 6, 8, 10, 12, 14, 16, 18, 20]"
      ],
      "metadata": {
        "id": "SWGnowIShZdr"
      },
      "execution_count": null,
      "outputs": []
    },
    {
      "cell_type": "code",
      "source": [
        "it = iter(l1)"
      ],
      "metadata": {
        "id": "Jpa8M3UXe1OK"
      },
      "execution_count": null,
      "outputs": []
    },
    {
      "cell_type": "code",
      "source": [
        "it"
      ],
      "metadata": {
        "colab": {
          "base_uri": "https://localhost:8080/"
        },
        "id": "sf1rPQU_hpb4",
        "outputId": "f128001d-06e1-4dd4-aa6b-7f9af5aad225"
      },
      "execution_count": null,
      "outputs": [
        {
          "output_type": "execute_result",
          "data": {
            "text/plain": [
              "<list_iterator at 0x7efe50280700>"
            ]
          },
          "metadata": {},
          "execution_count": 74
        }
      ]
    },
    {
      "cell_type": "code",
      "source": [
        "next(it)"
      ],
      "metadata": {
        "colab": {
          "base_uri": "https://localhost:8080/"
        },
        "id": "hMmqUqNAiALN",
        "outputId": "775df8c1-6010-400f-bb06-f3c283b41691"
      },
      "execution_count": null,
      "outputs": [
        {
          "output_type": "execute_result",
          "data": {
            "text/plain": [
              "2"
            ]
          },
          "metadata": {},
          "execution_count": 75
        }
      ]
    },
    {
      "cell_type": "code",
      "source": [
        "next(it)"
      ],
      "metadata": {
        "colab": {
          "base_uri": "https://localhost:8080/"
        },
        "id": "CMFMHXAaiECj",
        "outputId": "fa999ebd-a279-4913-d6ec-55396ef51536"
      },
      "execution_count": null,
      "outputs": [
        {
          "output_type": "execute_result",
          "data": {
            "text/plain": [
              "4"
            ]
          },
          "metadata": {},
          "execution_count": 76
        }
      ]
    },
    {
      "cell_type": "code",
      "source": [
        "next(it)"
      ],
      "metadata": {
        "colab": {
          "base_uri": "https://localhost:8080/"
        },
        "id": "ZuCSh_l2iGNG",
        "outputId": "f017d535-c0e9-4779-806c-ff7fb3647723"
      },
      "execution_count": null,
      "outputs": [
        {
          "output_type": "execute_result",
          "data": {
            "text/plain": [
              "6"
            ]
          },
          "metadata": {},
          "execution_count": 77
        }
      ]
    },
    {
      "cell_type": "code",
      "source": [
        "next(it)"
      ],
      "metadata": {
        "colab": {
          "base_uri": "https://localhost:8080/"
        },
        "id": "04q0e9OEiIk9",
        "outputId": "ce4020ae-c531-45c9-e58d-c4fb177a01e4"
      },
      "execution_count": null,
      "outputs": [
        {
          "output_type": "execute_result",
          "data": {
            "text/plain": [
              "8"
            ]
          },
          "metadata": {},
          "execution_count": 78
        }
      ]
    },
    {
      "cell_type": "code",
      "source": [
        "next(it)"
      ],
      "metadata": {
        "id": "7o5ShhZPiKuX",
        "outputId": "32810357-fd9b-48d2-a90b-c4fab44475e9",
        "colab": {
          "base_uri": "https://localhost:8080/"
        }
      },
      "execution_count": null,
      "outputs": [
        {
          "output_type": "execute_result",
          "data": {
            "text/plain": [
              "10"
            ]
          },
          "metadata": {},
          "execution_count": 79
        }
      ]
    },
    {
      "cell_type": "markdown",
      "source": [
        "**Q4**. What is a generator function in python? Why yield keyword is used? Give an example of a generator\n",
        "function.\n",
        "\n",
        "**Ans:**A generator function is a special type of function that returns an iterator object. Instead of using return to send back a single value, generator functions use yield to produce a series of results over time. This allows the function to generate values and pause its execution after each yield, maintaining its state between iterations.\n",
        "\n",
        "The yield keyword is used to define generator functions, which allow a function to produce a sequence of values on demand, without storing all values in memory at once."
      ],
      "metadata": {
        "id": "XSwUglYv068Y"
      }
    },
    {
      "cell_type": "code",
      "source": [
        "def fibonacci(num):\n",
        "  a,b = 0,1\n",
        "  for i in range(num):\n",
        "    yield a\n",
        "    a , b = b , a + b\n"
      ],
      "metadata": {
        "id": "Dwlh-OxP1hOS"
      },
      "execution_count": 7,
      "outputs": []
    },
    {
      "cell_type": "code",
      "source": [
        "fibonacci(10)"
      ],
      "metadata": {
        "colab": {
          "base_uri": "https://localhost:8080/"
        },
        "id": "fMGOBHU14FsJ",
        "outputId": "92e95af4-b778-4b2f-d49d-92ec43a40b8c"
      },
      "execution_count": 8,
      "outputs": [
        {
          "output_type": "execute_result",
          "data": {
            "text/plain": [
              "<generator object fibonacci at 0x794f305dc9a0>"
            ]
          },
          "metadata": {},
          "execution_count": 8
        }
      ]
    },
    {
      "cell_type": "code",
      "source": [
        "for i in fibonacci(10):\n",
        "  print(i)"
      ],
      "metadata": {
        "colab": {
          "base_uri": "https://localhost:8080/"
        },
        "id": "sDYvBm4R4V_X",
        "outputId": "1ab938d6-5eff-40ee-9c23-6a6deef27092"
      },
      "execution_count": 12,
      "outputs": [
        {
          "output_type": "stream",
          "name": "stdout",
          "text": [
            "0\n",
            "1\n",
            "1\n",
            "2\n",
            "3\n",
            "5\n",
            "8\n",
            "13\n",
            "21\n",
            "34\n"
          ]
        }
      ]
    },
    {
      "cell_type": "markdown",
      "source": [
        "**Q5.** Create a generator function for prime numbers less than 1000. Use the next() method to print the\n",
        "first 20 prime numbers."
      ],
      "metadata": {
        "id": "vlkofXddDDfj"
      }
    },
    {
      "cell_type": "code",
      "source": [
        "def prime_generator():\n",
        "    num = 2\n",
        "    while num < 1000:\n",
        "        for i in range(2, int(num ** 0.5) + 1):\n",
        "            if num % i == 0:\n",
        "                break\n",
        "        else:\n",
        "            yield num\n",
        "        num += 1\n"
      ],
      "metadata": {
        "id": "YR6UlRI9DAgX"
      },
      "execution_count": 27,
      "outputs": []
    },
    {
      "cell_type": "code",
      "source": [
        "prime = prime_generator()"
      ],
      "metadata": {
        "id": "F90lqyJtETH2"
      },
      "execution_count": 28,
      "outputs": []
    },
    {
      "cell_type": "code",
      "source": [
        "prime"
      ],
      "metadata": {
        "colab": {
          "base_uri": "https://localhost:8080/"
        },
        "id": "2HNqdewPEd10",
        "outputId": "afc55a20-69af-4ad2-d5d2-b91c6d036e28"
      },
      "execution_count": 29,
      "outputs": [
        {
          "output_type": "execute_result",
          "data": {
            "text/plain": [
              "<generator object prime_generator at 0x794eee2405e0>"
            ]
          },
          "metadata": {},
          "execution_count": 29
        }
      ]
    },
    {
      "cell_type": "code",
      "source": [
        "print(\"First 20 prime numbers:\")\n",
        "for _ in range(20):\n",
        "    print(next(prime), end=' ')"
      ],
      "metadata": {
        "colab": {
          "base_uri": "https://localhost:8080/"
        },
        "id": "4YvDDPrLEmOh",
        "outputId": "aa02476c-16a4-456a-b077-3d05f1fc1375"
      },
      "execution_count": 31,
      "outputs": [
        {
          "output_type": "stream",
          "name": "stdout",
          "text": [
            "First 20 prime numbers:\n",
            "2 3 5 7 11 13 17 19 23 29 31 37 41 43 47 53 59 61 67 71 "
          ]
        }
      ]
    },
    {
      "cell_type": "markdown",
      "source": [],
      "metadata": {
        "id": "MhrZO5XWEmjI"
      }
    }
  ]
}