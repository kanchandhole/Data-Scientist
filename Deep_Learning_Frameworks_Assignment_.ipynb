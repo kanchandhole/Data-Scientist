{
  "cells": [
    {
      "cell_type": "markdown",
      "metadata": {
        "id": "view-in-github",
        "colab_type": "text"
      },
      "source": [
        "<a href=\"https://colab.research.google.com/github/kanchandhole/Data-Scientist/blob/main/Deep_Learning_Frameworks_Assignment_.ipynb\" target=\"_parent\"><img src=\"https://colab.research.google.com/assets/colab-badge.svg\" alt=\"Open In Colab\"/></a>"
      ]
    },
    {
      "cell_type": "markdown",
      "metadata": {
        "id": "9t41z8-EqhOX"
      },
      "source": []
    },
    {
      "cell_type": "markdown",
      "metadata": {
        "id": "moQWGVYDqhRq"
      },
      "source": [
        "**Q1**What is TensorFlow 2.0, and how is it different from TensorFlow 1.x2\n",
        "\n",
        "**ans:**TensorFlow 2.0 is:\n",
        "\n",
        "A powerful and flexible machine learning platform for building and training models (especially deep learning models).\n",
        "\n",
        "Designed to be more user-friendly, easier to debug, and more Pythonic.\n",
        "\n",
        "Focused on eager execution, tf.keras as the central high-level API, and tight integration with NumPy and other Python tools.\n",
        "\n",
        "   TensorFlow 1.x\n",
        "•\tDefault: Static graph (use tf.Session)\n",
        "•\tMultiple APIs: tf.contrib, tf.estimator, tf.keras (inconsistent)\n",
        "•\tSteeper learning curve, more boilerplate\n",
        "•\tComplicated with tf.while_loop, tf.cond\n",
        "•\tHarder due to deferred execution\n",
        "•\tMany deprecated or experimental APIs\n",
        "•\tOptional and sometimes inconsistent\n",
        "•\tManual and complex setup\n",
        "•\tNot available\n",
        "\n",
        "\n",
        "TensorFlow 2.0\n",
        "\n",
        "•\tDefault: Eager execution (operations run immediately)\n",
        "•\tUnified under tf.keras as the standard high-level API\n",
        "•\tSimplified, more intuitive syntax\n",
        "•\tPython-native control flow (e.g. for, if)\n",
        "•\tEasier thanks to eager execution and Python debugging tools\n",
        "•\tDeprecated APIs removed; cleaner and more consistent\n",
        "•\tKeras is the recommended API for building models\n",
        "•\tSimplified with tf.distribute strategies\n",
        "•\tOffers tf.compat.v1 module for running 1.x code in 2.x\n",
        "\n"
      ]
    },
    {
      "cell_type": "markdown",
      "metadata": {
        "id": "m-esSMprrnWH"
      },
      "source": [
        "**Q2**.How do you install TensorFlow 2.02\n",
        "\n",
        "**ans:** 2. Install TensorFlow 2.0.2 with pip\n",
        "\n",
        " Option A: Using pip in a virtual environment\n",
        "bash\n",
        "Copy\n",
        "Edit\n",
        "python -m venv tf_env\n",
        "source tf_env/bin/activate        # On Windows: tf_env\\Scripts\\activate\n",
        "pip install tensorflow==2.0.2\n",
        "\n",
        " Option B: Direct install (not recommended globally)\n",
        "bash\n",
        "Copy\n",
        "Edit\n",
        "pip install tensorflow==2.0.2\n",
        "\n",
        " 3. Verify the Installation\n",
        "After installation, run this in Python:\n",
        "\n",
        "\n",
        "import tensorflow as tf\n",
        "print(tf.__version__)\n",
        "You should see:\n",
        "\n",
        "Troubleshooting\n",
        "If you encounter issues with pip, try upgrading:\n",
        "\n",
        "pip install --upgrade pip setuptools\n",
        "For GPU support, use:\n",
        "\n",
        "\n",
        "pip install tensorflow-gpu==2.0.2\n",
        "Make sure compatible CUDA and cuDNN versions are installed:\n",
        "\n",
        "CUDA 10.0\n",
        "\n",
        "cuDNN 7.4"
      ]
    },
    {
      "cell_type": "markdown",
      "metadata": {
        "id": "ystVeJhBsRrJ"
      },
      "source": [
        "**Q3.**What is the primary function of the tf.function in TensorFlow 2.02\n",
        "\n",
        "**ans:** Wraps a Python function (usually with TensorFlow operations).\n",
        "\n",
        "Traces and compiles it into a static computation graph.\n",
        "\n",
        "Improves performance by enabling:\n",
        "\n",
        "Graph-level optimizations.\n",
        "\n",
        "Faster execution.\n",
        "\n",
        "Deployment on various platforms (e.g., TensorFlow Serving, TF Lite, TF.js).\n",
        "\n"
      ]
    },
    {
      "cell_type": "markdown",
      "metadata": {
        "id": "dsKIbgRbxOFN"
      },
      "source": [
        "**Q4.**What is the purpose of the Model class in TensorFlow 2.02\n",
        "\n",
        "**ans:**\n",
        "The Model class in TensorFlow 2.0.2 (specifically tf.keras.Model) is a core component used to define, train, evaluate, and save machine learning models.\n",
        "\n",
        "It provides a high-level, object-oriented API for building deep learning models, and it's the base class for all models created using the Keras functional or subclassing API in TensorFlow 2.\n",
        "\n",
        "\tDescription\n",
        "\n",
        "Encapsulates layers and forward-pass logic\n",
        "\n",
        "compile(), .fit(), .train_on_batch() methods\n",
        "\n",
        "evaluate() to check performance\n",
        "\n",
        "predict() for inference\n",
        "\n",
        "save(), .load_model() for persistence\n",
        "\n",
        "Custom behavior\tCan override methods for custom training logic"
      ]
    },
    {
      "cell_type": "markdown",
      "metadata": {
        "id": "Lvl7eWfHx0Z0"
      },
      "source": [
        "**Q5.** How do you create a neural network using TensorFlow 2.02\n",
        "\n",
        "**ans:**To create a neural network using TensorFlow 2.0, you primarily use the tf.keras API, which provides a high-level interface for building and training neural networks. The process generally involves defining the model architecture, compiling it with an optimizer and loss function, training it on data, and then evaluating its performance.\n",
        "\n",
        "Import Libraries: Start by importing the necessary TensorFlow components, including tensorflow itself and keras modules for model definition, layers, and training.\n",
        "Python\n",
        "\n",
        "    import tensorflow as tf\n",
        "    from tensorflow import keras\n",
        "Define the Model Architecture: Use tf.keras.Sequential for defining a linear stack of layers, or tf.keras.Model for more complex architectures. Define layers like Dense (fully connected), Conv2D (convolutional), MaxPooling2D, etc.\n",
        "Python\n",
        "\n",
        "    model = keras.Sequential([\n",
        "        keras.layers.Flatten(input_shape=(28, 28)),  # Example: Flatten a 28x28 image\n",
        "        keras.layers.Dense(128, activation='relu'),    # Example: Dense layer with 128 neurons and ReLU activation\n",
        "        keras.layers.Dense(10, activation='softmax')  # Example: Output layer with 10 classes and softmax activation\n",
        "    ])\n"
      ]
    },
    {
      "cell_type": "markdown",
      "metadata": {
        "id": "EmT1_IfGyQLt"
      },
      "source": [
        "**Q6.**What is the importance of Tensor Space in TensorFlow?\n",
        "\n",
        "**ans:**Tensor is a multi-dimensional array used to store data in machine learning and deep learning frameworks, such as TensorFlow. Tensors are the fundamental data structure in TensorFlow, and they represent the flow of data through a computation graph"
      ]
    },
    {
      "cell_type": "markdown",
      "metadata": {
        "id": "1SxjmaGQyvG6"
      },
      "source": [
        "**Q7**.How can TensorBoard be integrated with TensorFlow 2.02?\n",
        "\n",
        "**ans:** Integrating TensorBoard with TensorFlow 2.x (including 2.02) in Google Colab involves the following steps: Load the TensorBoard Notebook Extension.\n",
        "TensorBoard can be run directly within a Colab notebook using its notebook extension. Execute the following in a Colab cell:\n",
        "Python\n",
        "\n",
        "    %load_ext tensorboard\n",
        "Define a Log Directory and Clear Previous Logs (Optional but Recommended):\n",
        "Choose a directory to save your TensorBoard logs. It's often good practice to clear any old logs before a new training run to avoid clutter.\n",
        "Python\n",
        "\n",
        "    import datetime\n",
        "    log_dir = \"logs/fit/\" + datetime.datetime.now().strftime(\"%Y%m%d-%H%M%S\")\n",
        "    # Optional: Clear previous logs if desired\n",
        "    # !rm -rf ./logs/\n",
        "Create a TensorBoard Callback for Keras Models:\n",
        "If using Keras, create a tf.keras.callbacks.TensorBoard instance and pass it to your model's fit() method. This callback will automatically log metrics like loss and accuracy.\n",
        "Python\n",
        "\n",
        "    tensorboard_callback = tf.keras.callbacks.TensorBoard(log_dir=log_dir, histogram_freq=1)\n",
        "Then, when training your model:\n",
        "Python\n",
        "\n",
        "    model.fit(x_train, y_train, epochs=10, callbacks=[tensorboard_callback])\n",
        "Start TensorBoard.\n",
        "Once your model training begins and logs are being generated, you can launch TensorBoard within the Colab notebook to visualize the data.\n",
        "Python\n",
        "\n",
        "    %tensorboard --logdir {log_dir}\n",
        "This command will display the TensorBoard interface directly within your Colab output, allowing you to explore the logged scalars, graphs, histograms, and other visualizations.\n",
        "Note: Google Colab comes with TensorFlow and TensorBoard pre-installed, so you typically do not need to install them separately. The %load_ext and %tensorboard magic commands handle the integration seamlessly within the Colab environment."
      ]
    },
    {
      "cell_type": "markdown",
      "metadata": {
        "id": "8ESnPhG6zMn4"
      },
      "source": [
        "**Q8**.What is the purpose of TensorFlow Playground?\n",
        "\n",
        "**ans:** TensorFlow Playground is a web-based tool that allows users to interactively experiment with and visualize neural networks, without needing to write any code. It helps users understand how neural networks learn and how different parameters affect their performance by adjusting hyperparameters and observing the results in real-time."
      ]
    },
    {
      "cell_type": "markdown",
      "metadata": {
        "id": "FP72gH-CzNWz"
      },
      "source": [
        "**Q9.**What is Netron, and how is it useful for deep learning models?\n",
        "\n",
        "**ans:**Neutron imaging technology is a non-destructive testing method that uses the interaction characteristics between neutrons and matter to obtain images. In the process of neutron imaging, it will be affected by many noises."
      ]
    },
    {
      "cell_type": "markdown",
      "metadata": {
        "id": "wKkD9H7az2ES"
      },
      "source": [
        "**Q10**.What is the difference between TensorFlow and PyTorch?\n",
        "\n",
        "ans:TensorFlow and PyTorch are both open-source machine learning frameworks widely used for building and training deep learning models, but they differ in several key aspects:\n",
        "1. Computation Graphs:\n",
        "PyTorch:\n",
        "Primarily uses dynamic computation graphs (eager execution). This means the graph is built and executed on the fly as operations are performed, allowing for greater flexibility during development and debugging, especially in research and prototyping.\n",
        "TensorFlow:\n",
        "Traditionally used static computation graphs, where the entire graph was defined before execution. While TensorFlow 2.0 introduced eager execution, its core strengths still lie in optimized static graph compilation for large-scale production deployments.\n",
        "2. Ease of Use and Python Integration:\n",
        "PyTorch:\n",
        "Known for its Pythonic nature and intuitive API, making it generally easier to learn and use for those familiar with Python. It feels more integrated with standard Python programming.\n",
        "TensorFlow:\n",
        "While Python-based, its API can be perceived as less intuitive by some newcomers, and it historically required more boilerplate code for defining graphs.\n",
        "3. Deployment and Production:\n",
        "TensorFlow:\n",
        "Offers a more mature and comprehensive ecosystem for production deployment, including tools like TensorFlow Serving, TensorFlow Lite for mobile/edge devices, and TensorFlow Extended (TFX) for end-to-end ML workflows.\n",
        "PyTorch:\n",
        "While gaining ground in production, it traditionally required more effort for deployment compared to TensorFlow's integrated solutions. However, tools like TorchScript and ONNX facilitate deployment.\n",
        "4. Community and Adoption:\n",
        "PyTorch:\n",
        "Has gained significant traction in the research and academic communities due to its flexibility and ease of experimentation.\n",
        "TensorFlow:\n",
        "Holds a strong presence in industry and large-scale applications, backed by Google's extensive resources and widespread enterprise adoption."
      ]
    },
    {
      "cell_type": "markdown",
      "metadata": {
        "id": "bP7Se4jf5Yvs"
      },
      "source": [
        "**Q11**.How do you install PyTorch?\n",
        "\n",
        "**ans:** Install Anaconda: Download and install Anaconda from www.anaconda.com.\n",
        "Create a Virtual Environment: Open Anaconda Prompt and create a new environment (e.g., \"my_pytorch_env\") using conda create -n my_pytorch_env python=3.9 (replace 3.9 with your desired Python version).\n",
        "Activate the Environment: Activate the environment using conda activate my_pytorch_env.\n",
        "Install PyTorch:\n",
        "Using pip: Run pip install torch torchvision torchaudio (or specific versions if needed).\n",
        "Using conda: Run conda install pytorch torchvision torchaudio -c pytorch.\n",
        "Verify the Installation: Open a Python interpreter (e.g., in Jupyter Notebook or a Python script) and import torch. If it imports without errors, PyTorch is installed correctly.\n",
        "(Optional) Install CUDA if needed: If you have a NVIDIA GPU and want to use it for faster computations, you'll need to install CUDA and cuDNN and then select the CUDA option during the PyTorch installation process. You can find the installation instructions for CUDA and cuDNN on the NVIDIA website."
      ]
    },
    {
      "cell_type": "markdown",
      "metadata": {
        "id": "_E0GhIoy5nHP"
      },
      "source": [
        "**Q12.**What is the basic structure of a PyTorch neural network?\n",
        "\n",
        "**ans:** The basic structure of a PyTorch neural network is built around the torch.nn.Module class and comprises several key components:\n",
        "Inheritance from nn.Module:\n",
        "All neural network models in PyTorch are typically defined by creating a class that inherits from torch.nn.Module. This inheritance provides essential functionalities like tracking parameters, managing sub-modules, and moving the model to different devices (CPU/GPU).\n",
        "__init__ Method:\n",
        "This method is used to define the layers and components of the neural network. This includes:\n",
        "Layers: Common layers like nn.Linear (for fully connected layers), nn.Conv2d (for convolutional layers), nn.BatchNorm2d (for batch normalization), etc.\n",
        "Activation Functions: Non-linear functions like nn.ReLU, nn.Sigmoid, nn.Tanh, which introduce non-linearity into the network, allowing it to learn complex patterns.\n",
        "Other Modules: Any other nn.Module instances that form part of the network's architecture.\n",
        "forward Method:\n",
        "This method defines the forward pass of the neural network. It specifies how the input data flows through the defined layers and operations to produce an output. The forward method takes the input tensor(s) and applies the sequence of transformations (layers, activation functions) to generate the network's output.\n",
        "Example Structure:\n",
        "Python\n",
        "\n"
      ]
    },
    {
      "cell_type": "markdown",
      "metadata": {
        "id": "JpMRWzWu54cY"
      },
      "source": [
        "**Q13**.What is the significance of tensors in PyTorch?\n",
        "\n",
        "**ans:** 1. GPU Acceleration:\n",
        "PyTorch tensors can be easily moved to and from GPUs, enabling significant speedups for computations due to the parallel processing capabilities of GPUs.\n",
        "This is crucial for training large neural networks, as it allows for faster training and inference times.\n",
        "2. Automatic Differentiation:\n",
        "Tensors are the foundation for PyTorch's automatic differentiation (autograd) feature, which is essential for training neural networks.\n",
        "Autograd automatically computes gradients of functions with respect to their inputs (tensors), allowing for efficient backpropagation and parameter updates during training.\n",
        "3. Versatile Data Representation:\n",
        "Tensors can represent data of various dimensions, from scalars (0D) and vectors (1D) to matrices (2D) and higher-dimensional arrays.\n",
        "This flexibility makes them suitable for handling different types of data, including images (3D), videos (4D), and other complex datasets.\n",
        "4. Core Building Block:\n",
        "Tensors are the building blocks for constructing and manipulating neural networks in PyTorch.\n",
        "They are used to represent model inputs, outputs, weights, biases, and other parameters.\n",
        "5. Integration with NumPy:\n",
        "PyTorch tensors are designed to be compatible with NumPy arrays, making it easy to transition between the two.\n",
        "This allows for seamless data manipulation and preprocessing using NumPy functions, and then efficient computation using PyTorch tensors on GPUs."
      ]
    },
    {
      "cell_type": "markdown",
      "metadata": {
        "id": "EIuTYv_v6GgG"
      },
      "source": [
        "**Q14.**What is the difference between torch.Tensor and torch.cuda.Tensor in PyTorch?\n",
        "\n",
        "**ans:** The core difference between torch.Tensor and torch.cuda.Tensor in PyTorch lies in their device placement and computation engine.\n",
        "torch.Tensor:\n",
        "This refers to a tensor residing in CPU memory. Operations performed on a torch.Tensor are executed using the CPU. This is the default tensor type when you create a tensor without specifying a device or explicitly moving it to CUDA.\n",
        "torch.cuda.Tensor:\n",
        "This refers to a tensor residing in GPU memory (specifically, CUDA-enabled GPUs). Operations performed on a torch.cuda.Tensor are executed using the GPU's parallel processing capabilities, which can significantly accelerate computations, especially for large-scale operations common in deep learning.\n",
        "Key distinctions:\n",
        "Memory Location:\n",
        "torch.Tensor occupies CPU RAM, while torch.cuda.Tensor occupies GPU VRAM.\n",
        "Computation Device:\n",
        "Operations on torch.Tensor are handled by the CPU, while operations on torch.cuda.Tensor are handled by the GPU.\n",
        "Performance:\n",
        "For computationally intensive tasks, torch.cuda.Tensor generally offers much faster performance due to the parallel processing power of GPUs.\n",
        "Creation and Transfer:\n",
        "You can create a torch.cuda.Tensor by explicitly moving a torch.Tensor to the GPU using methods like .to('cuda') or .cuda(). Conversely, you can move a torch.cuda.Tensor back to the CPU using .to('cpu') or .cpu().\n",
        "Device Management:\n",
        "torch.cuda provides functionalities to manage CUDA devices, such as selecting the active GPU, checking CUDA availability, and managing memory."
      ]
    },
    {
      "cell_type": "markdown",
      "metadata": {
        "id": "FkIosiQQ6UTb"
      },
      "source": [
        "**Q15.**What is the purpose of the torch.optim module in PyTorch ?\n",
        "\n",
        "**ans:** Parameter Updates:\n",
        "It implements various optimization algorithms like Stochastic Gradient Descent (SGD), Adam, RMSprop, Adagrad, etc., which determine how the model's parameters are adjusted based on the calculated gradients of the loss function.\n",
        "Gradient Management:\n",
        "Optimizers work in conjunction with PyTorch's automatic differentiation engine (torch.autograd) to efficiently manage and utilize gradients for parameter updates.\n",
        "Learning Rate Scheduling:\n",
        "Many optimizers support features like learning rate scheduling, allowing for dynamic adjustment of the learning rate during training to achieve better convergence.\n",
        "Regularization:\n",
        "Some optimizers incorporate regularization techniques like weight decay (L2 regularization) to prevent overfitting and improve generalization."
      ]
    },
    {
      "cell_type": "markdown",
      "metadata": {
        "id": "0dWqz_B86h8V"
      },
      "source": [
        "**Q16.**What are some common activation functions used in neural networks?\n",
        "\n",
        "**ans:**Sigmoid:\n",
        "Maps the input to a range between 0 and 1, making it suitable for output layers that predict probabilities.\n",
        "Tanh (Hyperbolic Tangent):\n",
        "Similar to sigmoid but maps the input to a range between -1 and 1. It's often preferred over sigmoid because it's zero-centered, which can help with faster training.\n",
        "ReLU (Rectified Linear Unit):\n",
        "Outputs the input directly if it's positive and 0 otherwise. It's computationally efficient and widely used in hidden layers.\n",
        "Softmax:\n",
        "Commonly used in the output layer for multi-class classification problems. It normalizes the outputs into a probability distribution, where each value represents the probability of belonging to a specific class."
      ]
    },
    {
      "cell_type": "markdown",
      "metadata": {
        "id": "6UcK0pke6vMD"
      },
      "source": [
        "**Q17.**What is the difference between torch.nn.Module and torch.nn.Sequential in PyTorch?\n",
        "\n",
        "**ans:**torch.nn.Module is the base class for all neural network modules in PyTorch. Any custom layer, network, or component in PyTorch that has learnable parameters or requires a forward pass definition must inherit from torch.nn.Module. It provides the foundational structure for defining the computation and managing parameters within a neural network.\n",
        "torch.nn.Sequential is a specific container module that inherits from torch.nn.Module. It is designed to simplify the creation of neural networks where layers are stacked in a sequential order, meaning the output of one layer directly becomes the input of the next.\n",
        "The key differences are:\n",
        "Purpose:\n",
        "torch.nn.Module: Provides the fundamental building block for defining any part of a neural network, from individual layers to entire models, allowing for complex and non-sequential architectures.\n",
        "torch.nn.Sequential: Specifically designed for creating models with a linear, feed-forward structure where the data flows sequentially through a series of modules.\n",
        "Flexibility:\n",
        "torch.nn.Module: Offers maximum flexibility, allowing for custom forward methods, branching, skip connections, and any arbitrary computational graph within the network.\n",
        "torch.nn.Sequential: Less flexible than a custom nn.Module as it strictly enforces a sequential execution of its contained modules. It's ideal for straightforward architectures.\n",
        "Usage:\n",
        "torch.nn.Module: Requires defining a class that inherits from nn.Module, implementing an __init__ method to define sub-modules, and a forward method to specify the data flow.\n",
        "torch.nn.Sequential: Can be instantiated by simply passing an ordered list of modules to its constructor, providing a concise way to define sequential models."
      ]
    },
    {
      "cell_type": "markdown",
      "metadata": {
        "id": "LcK9zARi6535"
      },
      "source": [
        "**Q18.**How can you monitor training progress in TensorFlow 2.0?\n",
        "\n",
        "**ans:**Monitoring training progress in TensorFlow 2.0 can be effectively achieved using several methods:\n",
        "1. TensorBoard:\n",
        "TensorBoard is TensorFlow's visualization toolkit, providing a web-based interface to monitor various aspects of your model during training.\n",
        "Setting up TensorBoard:\n",
        "Import the TensorBoard callback from tf.keras.callbacks.\n",
        "Specify a log directory where TensorBoard will store event files.\n",
        "Include the TensorBoard callback in the callbacks list when calling model.fit()."
      ]
    },
    {
      "cell_type": "markdown",
      "metadata": {
        "id": "F-kUOiTZ7FXh"
      },
      "source": [
        "**Q19.**How does the Keras API fit into TensorFlow 2.0?\n",
        "\n",
        "**ans:** Official High-Level API:\n",
        "TensorFlow 2.0 standardized on Keras as its primary API for defining and training neural networks. This simplifies the user experience and provides a consistent interface for machine learning workflows.\n",
        "Accessible through tf.keras:\n",
        "You no longer need to install Keras separately. When you install TensorFlow 2.0 or later, Keras is included and can be imported directly using import tensorflow as tf and then accessing Keras components via tf.keras.\n",
        "Simplified Model Building:\n",
        "Keras provides user-friendly APIs like Sequential, Functional API, and Model Subclassing within tf.keras, allowing for flexible model creation from simple stacked layers to complex architectures with shared layers and multiple inputs/outputs.\n",
        "Seamless Integration with TensorFlow Features:\n",
        "tf.keras seamlessly integrates with other TensorFlow features like eager execution for interactive development and debugging, tf.data for efficient data input pipelines, and tf.function for performance optimization.\n",
        "Unified Ecosystem:\n",
        "This integration creates a unified ecosystem where Keras provides the high-level abstraction for model definition and training, while TensorFlow handles the underlying computational graph execution, distributed training, and deployment capabilities.\n"
      ]
    },
    {
      "cell_type": "markdown",
      "metadata": {
        "id": "IRX_Iw5q7TAQ"
      },
      "source": [
        "**Q20.**What is an example of a deep learning project that can be implemented using TensorFlow 2.0?\n",
        "\n",
        "**ans:**1. Data Loading and Preprocessing:\n",
        "TensorFlow 2.0 offers easy ways to load the MNIST dataset, which is readily available within the library. You'll also need to preprocess the data, likely normalizing pixel values and potentially creating one-hot encoded labels.\n",
        "2. Model Definition:\n",
        "You can define your CNN model using tf.keras.models.Sequential() or by creating a functional model. This involves defining layers like convolutional layers, pooling layers, and fully connected layers. The Keras API provides pre-built layers for easy implementation.\n",
        "3. Model Compilation:\n",
        "You'll need to compile the model by specifying the optimizer (e.g., Adam), loss function (e.g., categorical cross-entropy for multi-class classification), and evaluation metrics (e.g., accuracy).\n",
        "4. Model Training:\n",
        "The model is trained using the model.fit() method, feeding it the preprocessed training data and specifying the number of epochs (iterations over the training data).\n",
        "5. Model Evaluation:\n",
        "After training, you'll evaluate the model's performance using the test data to assess its accuracy and other relevant metrics.\n",
        "6. Inference:\n",
        "\n",
        "You can then use the trained model to classify new, unseen images."
      ]
    },
    {
      "cell_type": "markdown",
      "metadata": {
        "id": "mQzowLri7nX2"
      },
      "source": [
        "**Q21**. What is the main advantage of using pre-trained models in TensorFlow and PyTorch?\n",
        "\n",
        "**ans:** Reduced Training Time and Resources:\n",
        "Training deep learning models from scratch, especially large ones, requires immense computational power and can take days or even weeks. Pre-trained models have already learned complex features from massive datasets, allowing users to leverage this existing knowledge and only fine-tune the model for their specific task, drastically cutting down on training time and resource consumption.\n",
        "Improved Performance through Transfer Learning:\n",
        "Pre-trained models capture generalizable features from their extensive training data. When applied to a new, related task, these models can transfer this learned knowledge, often leading to better performance and faster convergence compared to training a model from scratch with limited data. This is particularly beneficial when the target dataset is small."
      ]
    },
    {
      "cell_type": "markdown",
      "metadata": {
        "id": "JhOjcQKf7x8G"
      },
      "source": [
        "Q1. How do you install and verify that TensorFlow 2.0 was installed successfully?"
      ]
    },
    {
      "cell_type": "code",
      "execution_count": null,
      "metadata": {
        "colab": {
          "base_uri": "https://localhost:8080/"
        },
        "id": "_3W4Zy2f792T",
        "outputId": "0b479075-2c7a-4665-8b3b-91a76f9a8954"
      },
      "outputs": [
        {
          "name": "stdout",
          "output_type": "stream",
          "text": [
            "Collecting tensorflow\n",
            "  Downloading tensorflow-2.19.0-cp311-cp311-manylinux_2_17_x86_64.manylinux2014_x86_64.whl.metadata (4.1 kB)\n",
            "Requirement already satisfied: absl-py>=1.0.0 in /usr/local/lib/python3.11/dist-packages (from tensorflow) (1.4.0)\n",
            "Requirement already satisfied: astunparse>=1.6.0 in /usr/local/lib/python3.11/dist-packages (from tensorflow) (1.6.3)\n",
            "Requirement already satisfied: flatbuffers>=24.3.25 in /usr/local/lib/python3.11/dist-packages (from tensorflow) (25.2.10)\n",
            "Requirement already satisfied: gast!=0.5.0,!=0.5.1,!=0.5.2,>=0.2.1 in /usr/local/lib/python3.11/dist-packages (from tensorflow) (0.6.0)\n",
            "Requirement already satisfied: google-pasta>=0.1.1 in /usr/local/lib/python3.11/dist-packages (from tensorflow) (0.2.0)\n",
            "Requirement already satisfied: libclang>=13.0.0 in /usr/local/lib/python3.11/dist-packages (from tensorflow) (18.1.1)\n",
            "Requirement already satisfied: opt-einsum>=2.3.2 in /usr/local/lib/python3.11/dist-packages (from tensorflow) (3.4.0)\n",
            "Requirement already satisfied: packaging in /usr/local/lib/python3.11/dist-packages (from tensorflow) (25.0)\n",
            "Requirement already satisfied: protobuf!=4.21.0,!=4.21.1,!=4.21.2,!=4.21.3,!=4.21.4,!=4.21.5,<6.0.0dev,>=3.20.3 in /usr/local/lib/python3.11/dist-packages (from tensorflow) (5.29.5)\n",
            "Requirement already satisfied: requests<3,>=2.21.0 in /usr/local/lib/python3.11/dist-packages (from tensorflow) (2.32.3)\n",
            "Requirement already satisfied: setuptools in /usr/local/lib/python3.11/dist-packages (from tensorflow) (75.2.0)\n",
            "Requirement already satisfied: six>=1.12.0 in /usr/local/lib/python3.11/dist-packages (from tensorflow) (1.17.0)\n",
            "Requirement already satisfied: termcolor>=1.1.0 in /usr/local/lib/python3.11/dist-packages (from tensorflow) (3.1.0)\n",
            "Requirement already satisfied: typing-extensions>=3.6.6 in /usr/local/lib/python3.11/dist-packages (from tensorflow) (4.14.1)\n",
            "Requirement already satisfied: wrapt>=1.11.0 in /usr/local/lib/python3.11/dist-packages (from tensorflow) (1.17.2)\n",
            "Requirement already satisfied: grpcio<2.0,>=1.24.3 in /usr/local/lib/python3.11/dist-packages (from tensorflow) (1.73.1)\n",
            "Collecting tensorboard~=2.19.0 (from tensorflow)\n",
            "  Downloading tensorboard-2.19.0-py3-none-any.whl.metadata (1.8 kB)\n",
            "Requirement already satisfied: keras>=3.5.0 in /usr/local/lib/python3.11/dist-packages (from tensorflow) (3.8.0)\n",
            "Requirement already satisfied: numpy<2.2.0,>=1.26.0 in /usr/local/lib/python3.11/dist-packages (from tensorflow) (2.0.2)\n",
            "Requirement already satisfied: h5py>=3.11.0 in /usr/local/lib/python3.11/dist-packages (from tensorflow) (3.14.0)\n",
            "Collecting ml-dtypes<1.0.0,>=0.5.1 (from tensorflow)\n",
            "  Downloading ml_dtypes-0.5.1-cp311-cp311-manylinux_2_17_x86_64.manylinux2014_x86_64.whl.metadata (21 kB)\n",
            "Requirement already satisfied: tensorflow-io-gcs-filesystem>=0.23.1 in /usr/local/lib/python3.11/dist-packages (from tensorflow) (0.37.1)\n",
            "Requirement already satisfied: wheel<1.0,>=0.23.0 in /usr/local/lib/python3.11/dist-packages (from astunparse>=1.6.0->tensorflow) (0.45.1)\n",
            "Requirement already satisfied: rich in /usr/local/lib/python3.11/dist-packages (from keras>=3.5.0->tensorflow) (13.9.4)\n",
            "Requirement already satisfied: namex in /usr/local/lib/python3.11/dist-packages (from keras>=3.5.0->tensorflow) (0.1.0)\n",
            "Requirement already satisfied: optree in /usr/local/lib/python3.11/dist-packages (from keras>=3.5.0->tensorflow) (0.16.0)\n",
            "Requirement already satisfied: charset-normalizer<4,>=2 in /usr/local/lib/python3.11/dist-packages (from requests<3,>=2.21.0->tensorflow) (3.4.2)\n",
            "Requirement already satisfied: idna<4,>=2.5 in /usr/local/lib/python3.11/dist-packages (from requests<3,>=2.21.0->tensorflow) (3.10)\n",
            "Requirement already satisfied: urllib3<3,>=1.21.1 in /usr/local/lib/python3.11/dist-packages (from requests<3,>=2.21.0->tensorflow) (2.4.0)\n",
            "Requirement already satisfied: certifi>=2017.4.17 in /usr/local/lib/python3.11/dist-packages (from requests<3,>=2.21.0->tensorflow) (2025.7.14)\n",
            "Requirement already satisfied: markdown>=2.6.8 in /usr/local/lib/python3.11/dist-packages (from tensorboard~=2.19.0->tensorflow) (3.8.2)\n",
            "Requirement already satisfied: tensorboard-data-server<0.8.0,>=0.7.0 in /usr/local/lib/python3.11/dist-packages (from tensorboard~=2.19.0->tensorflow) (0.7.2)\n",
            "Requirement already satisfied: werkzeug>=1.0.1 in /usr/local/lib/python3.11/dist-packages (from tensorboard~=2.19.0->tensorflow) (3.1.3)\n",
            "Requirement already satisfied: MarkupSafe>=2.1.1 in /usr/local/lib/python3.11/dist-packages (from werkzeug>=1.0.1->tensorboard~=2.19.0->tensorflow) (3.0.2)\n",
            "Requirement already satisfied: markdown-it-py>=2.2.0 in /usr/local/lib/python3.11/dist-packages (from rich->keras>=3.5.0->tensorflow) (3.0.0)\n",
            "Requirement already satisfied: pygments<3.0.0,>=2.13.0 in /usr/local/lib/python3.11/dist-packages (from rich->keras>=3.5.0->tensorflow) (2.19.2)\n",
            "Requirement already satisfied: mdurl~=0.1 in /usr/local/lib/python3.11/dist-packages (from markdown-it-py>=2.2.0->rich->keras>=3.5.0->tensorflow) (0.1.2)\n",
            "Downloading tensorflow-2.19.0-cp311-cp311-manylinux_2_17_x86_64.manylinux2014_x86_64.whl (644.9 MB)\n",
            "\u001b[2K   \u001b[90m━━━━━━━━━━━━━━━━━━━━━━━━━━━━━━━━━━━━━━━━\u001b[0m \u001b[32m644.9/644.9 MB\u001b[0m \u001b[31m2.7 MB/s\u001b[0m eta \u001b[36m0:00:00\u001b[0m\n",
            "\u001b[?25hDownloading ml_dtypes-0.5.1-cp311-cp311-manylinux_2_17_x86_64.manylinux2014_x86_64.whl (4.7 MB)\n",
            "\u001b[2K   \u001b[90m━━━━━━━━━━━━━━━━━━━━━━━━━━━━━━━━━━━━━━━━\u001b[0m \u001b[32m4.7/4.7 MB\u001b[0m \u001b[31m66.4 MB/s\u001b[0m eta \u001b[36m0:00:00\u001b[0m\n",
            "\u001b[?25hDownloading tensorboard-2.19.0-py3-none-any.whl (5.5 MB)\n",
            "\u001b[2K   \u001b[90m━━━━━━━━━━━━━━━━━━━━━━━━━━━━━━━━━━━━━━━━\u001b[0m \u001b[32m5.5/5.5 MB\u001b[0m \u001b[31m68.4 MB/s\u001b[0m eta \u001b[36m0:00:00\u001b[0m\n",
            "\u001b[?25hInstalling collected packages: ml-dtypes, tensorboard, tensorflow\n",
            "  Attempting uninstall: ml-dtypes\n",
            "    Found existing installation: ml-dtypes 0.4.1\n",
            "    Uninstalling ml-dtypes-0.4.1:\n",
            "      Successfully uninstalled ml-dtypes-0.4.1\n",
            "  Attempting uninstall: tensorboard\n",
            "    Found existing installation: tensorboard 2.18.0\n",
            "    Uninstalling tensorboard-2.18.0:\n",
            "      Successfully uninstalled tensorboard-2.18.0\n",
            "\u001b[31mERROR: pip's dependency resolver does not currently take into account all the packages that are installed. This behaviour is the source of the following dependency conflicts.\n",
            "tf-keras 2.18.0 requires tensorflow<2.19,>=2.18, but you have tensorflow 2.19.0 which is incompatible.\n",
            "tensorflow-text 2.18.1 requires tensorflow<2.19,>=2.18.0, but you have tensorflow 2.19.0 which is incompatible.\n",
            "tensorflow-decision-forests 1.11.0 requires tensorflow==2.18.0, but you have tensorflow 2.19.0 which is incompatible.\u001b[0m\u001b[31m\n",
            "\u001b[0mSuccessfully installed ml-dtypes-0.5.1 tensorboard-2.19.0 tensorflow-2.19.0\n"
          ]
        }
      ],
      "source": [
        "!pip install tensorflow"
      ]
    },
    {
      "cell_type": "code",
      "execution_count": null,
      "metadata": {
        "colab": {
          "base_uri": "https://localhost:8080/"
        },
        "id": "kmkgycfc79zr",
        "outputId": "d93323dc-c9b6-4027-f864-0ce6f9552cad"
      },
      "outputs": [
        {
          "name": "stdout",
          "output_type": "stream",
          "text": [
            "TensorFlow version: 2.19.0\n"
          ]
        }
      ],
      "source": [
        "import tensorflow as tf\n",
        "print(\"TensorFlow version:\", tf.__version__)"
      ]
    },
    {
      "cell_type": "code",
      "execution_count": null,
      "metadata": {
        "colab": {
          "base_uri": "https://localhost:8080/"
        },
        "id": "d5uZ8MC67943",
        "outputId": "8b285498-0941-4d92-eb00-fb037c7e8fd3"
      },
      "outputs": [
        {
          "name": "stdout",
          "output_type": "stream",
          "text": [
            "\u001b[31mERROR: Could not find a version that satisfies the requirement tensorflow==2.0.0 (from versions: 2.12.0rc0, 2.12.0rc1, 2.12.0, 2.12.1, 2.13.0rc0, 2.13.0rc1, 2.13.0rc2, 2.13.0, 2.13.1, 2.14.0rc0, 2.14.0rc1, 2.14.0, 2.14.1, 2.15.0rc0, 2.15.0rc1, 2.15.0, 2.15.0.post1, 2.15.1, 2.16.0rc0, 2.16.1, 2.16.2, 2.17.0rc0, 2.17.0rc1, 2.17.0, 2.17.1, 2.18.0rc0, 2.18.0rc1, 2.18.0rc2, 2.18.0, 2.18.1, 2.19.0rc0, 2.19.0)\u001b[0m\u001b[31m\n",
            "\u001b[0m\u001b[31mERROR: No matching distribution found for tensorflow==2.0.0\u001b[0m\u001b[31m\n",
            "\u001b[0m"
          ]
        }
      ],
      "source": [
        "!pip install tensorflow==2.0.0\n",
        "import os\n",
        "os.kill(os.getpid(), 9)"
      ]
    },
    {
      "cell_type": "code",
      "execution_count": null,
      "metadata": {
        "colab": {
          "base_uri": "https://localhost:8080/"
        },
        "id": "Mm2uKnra79_i",
        "outputId": "f0070156-6c29-4898-b704-7f9e98dbeea1"
      },
      "outputs": [
        {
          "name": "stdout",
          "output_type": "stream",
          "text": [
            "TensorFlow version: 2.19.0\n",
            "Is TensorFlow 2.x: True\n",
            "Test computation (2.0 + 3.0): 5.0\n"
          ]
        }
      ],
      "source": [
        "import tensorflow as tf\n",
        "\n",
        "print(\"TensorFlow version:\", tf.__version__)\n",
        "print(\"Is TensorFlow 2.x:\", tf.__version__.startswith('2'))\n",
        "\n",
        "# Simple test computation\n",
        "a = tf.constant(2.0)\n",
        "b = tf.constant(3.0)\n",
        "c = a + b\n",
        "print(\"Test computation (2.0 + 3.0):\", c.numpy())"
      ]
    },
    {
      "cell_type": "markdown",
      "metadata": {
        "id": "_St3LmX692Tm"
      },
      "source": [
        "**Q2**.How can you define a simple function in TensorFlow 2.0 to perform addition?"
      ]
    },
    {
      "cell_type": "code",
      "execution_count": null,
      "metadata": {
        "colab": {
          "base_uri": "https://localhost:8080/"
        },
        "id": "0v9X53blNzE7",
        "outputId": "380d31f1-af25-4b30-c7e7-a5bc2ed90b6e"
      },
      "outputs": [
        {
          "name": "stdout",
          "output_type": "stream",
          "text": [
            "Result: 7.0\n"
          ]
        }
      ],
      "source": [
        "import tensorflow as tf\n",
        "\n",
        "def add_numbers(x, y):\n",
        "    return tf.add(x, y)\n",
        "\n",
        "# Example usage\n",
        "a = tf.constant(3.0)\n",
        "b = tf.constant(4.0)\n",
        "result = add_numbers(a, b)\n",
        "print(\"Result:\", result.numpy())"
      ]
    },
    {
      "cell_type": "code",
      "execution_count": null,
      "metadata": {
        "colab": {
          "base_uri": "https://localhost:8080/"
        },
        "id": "rFiHx-gqNzHZ",
        "outputId": "2139a97c-c59b-4471-da81-e4943114d083"
      },
      "outputs": [
        {
          "name": "stdout",
          "output_type": "stream",
          "text": [
            "Result: 7.0\n"
          ]
        }
      ],
      "source": [
        "import tensorflow as tf\n",
        "\n",
        "@tf.function\n",
        "def add_numbers(x, y):\n",
        "    return tf.add(x, y)\n",
        "\n",
        "# Example usage\n",
        "a = tf.constant(5.0)\n",
        "b = tf.constant(2.0)\n",
        "result = add_numbers(a, b)\n",
        "print(\"Result:\", result.numpy())"
      ]
    },
    {
      "cell_type": "markdown",
      "metadata": {
        "id": "7fuc9dy2OF1G"
      },
      "source": [
        "**Q3.**How can you create a simple neural network in TensorFlow 2.0 with one hidden layer?"
      ]
    },
    {
      "cell_type": "code",
      "execution_count": null,
      "metadata": {
        "colab": {
          "background_save": true
        },
        "id": "0-j93-NINzJ1",
        "outputId": "c13ab46b-a767-4577-b090-59fb5adccbc7"
      },
      "outputs": [
        {
          "name": "stderr",
          "output_type": "stream",
          "text": [
            "/usr/local/lib/python3.11/dist-packages/keras/src/layers/core/dense.py:87: UserWarning: Do not pass an `input_shape`/`input_dim` argument to a layer. When using Sequential models, prefer using an `Input(shape)` object as the first layer in the model instead.\n",
            "  super().__init__(activity_regularizer=activity_regularizer, **kwargs)\n"
          ]
        },
        {
          "data": {
            "text/html": [
              "<pre style=\"white-space:pre;overflow-x:auto;line-height:normal;font-family:Menlo,'DejaVu Sans Mono',consolas,'Courier New',monospace\"><span style=\"font-weight: bold\">Model: \"sequential\"</span>\n",
              "</pre>\n"
            ],
            "text/plain": [
              "\u001b[1mModel: \"sequential\"\u001b[0m\n"
            ]
          },
          "metadata": {},
          "output_type": "display_data"
        },
        {
          "data": {
            "text/html": [
              "<pre style=\"white-space:pre;overflow-x:auto;line-height:normal;font-family:Menlo,'DejaVu Sans Mono',consolas,'Courier New',monospace\">┏━━━━━━━━━━━━━━━━━━━━━━━━━━━━━━━━━┳━━━━━━━━━━━━━━━━━━━━━━━━┳━━━━━━━━━━━━━━━┓\n",
              "┃<span style=\"font-weight: bold\"> Layer (type)                    </span>┃<span style=\"font-weight: bold\"> Output Shape           </span>┃<span style=\"font-weight: bold\">       Param # </span>┃\n",
              "┡━━━━━━━━━━━━━━━━━━━━━━━━━━━━━━━━━╇━━━━━━━━━━━━━━━━━━━━━━━━╇━━━━━━━━━━━━━━━┩\n",
              "│ dense (<span style=\"color: #0087ff; text-decoration-color: #0087ff\">Dense</span>)                   │ (<span style=\"color: #00d7ff; text-decoration-color: #00d7ff\">None</span>, <span style=\"color: #00af00; text-decoration-color: #00af00\">16</span>)             │           <span style=\"color: #00af00; text-decoration-color: #00af00\">176</span> │\n",
              "├─────────────────────────────────┼────────────────────────┼───────────────┤\n",
              "│ dense_1 (<span style=\"color: #0087ff; text-decoration-color: #0087ff\">Dense</span>)                 │ (<span style=\"color: #00d7ff; text-decoration-color: #00d7ff\">None</span>, <span style=\"color: #00af00; text-decoration-color: #00af00\">1</span>)              │            <span style=\"color: #00af00; text-decoration-color: #00af00\">17</span> │\n",
              "└─────────────────────────────────┴────────────────────────┴───────────────┘\n",
              "</pre>\n"
            ],
            "text/plain": [
              "┏━━━━━━━━━━━━━━━━━━━━━━━━━━━━━━━━━┳━━━━━━━━━━━━━━━━━━━━━━━━┳━━━━━━━━━━━━━━━┓\n",
              "┃\u001b[1m \u001b[0m\u001b[1mLayer (type)                   \u001b[0m\u001b[1m \u001b[0m┃\u001b[1m \u001b[0m\u001b[1mOutput Shape          \u001b[0m\u001b[1m \u001b[0m┃\u001b[1m \u001b[0m\u001b[1m      Param #\u001b[0m\u001b[1m \u001b[0m┃\n",
              "┡━━━━━━━━━━━━━━━━━━━━━━━━━━━━━━━━━╇━━━━━━━━━━━━━━━━━━━━━━━━╇━━━━━━━━━━━━━━━┩\n",
              "│ dense (\u001b[38;5;33mDense\u001b[0m)                   │ (\u001b[38;5;45mNone\u001b[0m, \u001b[38;5;34m16\u001b[0m)             │           \u001b[38;5;34m176\u001b[0m │\n",
              "├─────────────────────────────────┼────────────────────────┼───────────────┤\n",
              "│ dense_1 (\u001b[38;5;33mDense\u001b[0m)                 │ (\u001b[38;5;45mNone\u001b[0m, \u001b[38;5;34m1\u001b[0m)              │            \u001b[38;5;34m17\u001b[0m │\n",
              "└─────────────────────────────────┴────────────────────────┴───────────────┘\n"
            ]
          },
          "metadata": {},
          "output_type": "display_data"
        },
        {
          "data": {
            "text/html": [
              "<pre style=\"white-space:pre;overflow-x:auto;line-height:normal;font-family:Menlo,'DejaVu Sans Mono',consolas,'Courier New',monospace\"><span style=\"font-weight: bold\"> Total params: </span><span style=\"color: #00af00; text-decoration-color: #00af00\">193</span> (772.00 B)\n",
              "</pre>\n"
            ],
            "text/plain": [
              "\u001b[1m Total params: \u001b[0m\u001b[38;5;34m193\u001b[0m (772.00 B)\n"
            ]
          },
          "metadata": {},
          "output_type": "display_data"
        },
        {
          "data": {
            "text/html": [
              "<pre style=\"white-space:pre;overflow-x:auto;line-height:normal;font-family:Menlo,'DejaVu Sans Mono',consolas,'Courier New',monospace\"><span style=\"font-weight: bold\"> Trainable params: </span><span style=\"color: #00af00; text-decoration-color: #00af00\">193</span> (772.00 B)\n",
              "</pre>\n"
            ],
            "text/plain": [
              "\u001b[1m Trainable params: \u001b[0m\u001b[38;5;34m193\u001b[0m (772.00 B)\n"
            ]
          },
          "metadata": {},
          "output_type": "display_data"
        },
        {
          "data": {
            "text/html": [
              "<pre style=\"white-space:pre;overflow-x:auto;line-height:normal;font-family:Menlo,'DejaVu Sans Mono',consolas,'Courier New',monospace\"><span style=\"font-weight: bold\"> Non-trainable params: </span><span style=\"color: #00af00; text-decoration-color: #00af00\">0</span> (0.00 B)\n",
              "</pre>\n"
            ],
            "text/plain": [
              "\u001b[1m Non-trainable params: \u001b[0m\u001b[38;5;34m0\u001b[0m (0.00 B)\n"
            ]
          },
          "metadata": {},
          "output_type": "display_data"
        }
      ],
      "source": [
        "import tensorflow as tf\n",
        "from tensorflow.keras import Sequential\n",
        "from tensorflow.keras.layers import Dense\n",
        "\n",
        "# Define the model\n",
        "model = Sequential([\n",
        "    Dense(16, activation='relu', input_shape=(10,)),  # Hidden layer with 16 neurons\n",
        "    Dense(1, activation='sigmoid')  # Output layer for binary classification\n",
        "])\n",
        "\n",
        "# Compile the model\n",
        "model.compile(optimizer='adam',\n",
        "              loss='binary_crossentropy',\n",
        "              metrics=['accuracy'])\n",
        "\n",
        "# Summary of the model\n",
        "model.summary()"
      ]
    },
    {
      "cell_type": "markdown",
      "source": [
        "**Q4.**How can you visualize the training progress using TensorFlow and Matplotlib"
      ],
      "metadata": {
        "id": "6uwJ7ivxR_Lv"
      }
    },
    {
      "cell_type": "code",
      "source": [
        "import tensorflow as tf\n",
        "import numpy as np\n",
        "\n",
        "# 1. Generate synthetic input data\n",
        "# 1000 samples, 10 features\n",
        "X = np.random.rand(1000, 10).astype(np.float32)\n",
        "\n",
        "# 2. Generate synthetic binary labels\n",
        "# If sum of features > 5, label = 1, else 0 (just an arbitrary rule)\n",
        "y = (np.sum(X, axis=1) > 5).astype(np.float32)\n",
        "\n",
        "# 3. Define a simple binary classification model\n",
        "model = tf.keras.Sequential([\n",
        "    tf.keras.layers.Dense(16, activation='relu', input_shape=(10,)),\n",
        "    tf.keras.layers.Dense(1, activation='sigmoid')\n",
        "])\n",
        "\n",
        "# 4. Compile the model\n",
        "model.compile(optimizer='adam',\n",
        "              loss='binary_crossentropy',\n",
        "              metrics=['accuracy'])\n",
        "\n",
        "# 5. Train the model using your code\n",
        "history = model.fit(X, y, epochs=10, batch_size=10, validation_split=0.2)\n"
      ],
      "metadata": {
        "colab": {
          "base_uri": "https://localhost:8080/"
        },
        "id": "2h7_j48ISDYP",
        "outputId": "59783e5d-8be4-441d-fbfb-a0cce35ed171"
      },
      "execution_count": null,
      "outputs": [
        {
          "output_type": "stream",
          "name": "stdout",
          "text": [
            "Epoch 1/10\n"
          ]
        },
        {
          "output_type": "stream",
          "name": "stderr",
          "text": [
            "/usr/local/lib/python3.11/dist-packages/keras/src/layers/core/dense.py:87: UserWarning: Do not pass an `input_shape`/`input_dim` argument to a layer. When using Sequential models, prefer using an `Input(shape)` object as the first layer in the model instead.\n",
            "  super().__init__(activity_regularizer=activity_regularizer, **kwargs)\n"
          ]
        },
        {
          "output_type": "stream",
          "name": "stdout",
          "text": [
            "\u001b[1m80/80\u001b[0m \u001b[32m━━━━━━━━━━━━━━━━━━━━\u001b[0m\u001b[37m\u001b[0m \u001b[1m1s\u001b[0m 5ms/step - accuracy: 0.5527 - loss: 0.6660 - val_accuracy: 0.5650 - val_loss: 0.6694\n",
            "Epoch 2/10\n",
            "\u001b[1m80/80\u001b[0m \u001b[32m━━━━━━━━━━━━━━━━━━━━\u001b[0m\u001b[37m\u001b[0m \u001b[1m0s\u001b[0m 3ms/step - accuracy: 0.5974 - loss: 0.6566 - val_accuracy: 0.5850 - val_loss: 0.6614\n",
            "Epoch 3/10\n",
            "\u001b[1m80/80\u001b[0m \u001b[32m━━━━━━━━━━━━━━━━━━━━\u001b[0m\u001b[37m\u001b[0m \u001b[1m0s\u001b[0m 3ms/step - accuracy: 0.6031 - loss: 0.6565 - val_accuracy: 0.5950 - val_loss: 0.6547\n",
            "Epoch 4/10\n",
            "\u001b[1m80/80\u001b[0m \u001b[32m━━━━━━━━━━━━━━━━━━━━\u001b[0m\u001b[37m\u001b[0m \u001b[1m0s\u001b[0m 3ms/step - accuracy: 0.6085 - loss: 0.6442 - val_accuracy: 0.6250 - val_loss: 0.6462\n",
            "Epoch 5/10\n",
            "\u001b[1m80/80\u001b[0m \u001b[32m━━━━━━━━━━━━━━━━━━━━\u001b[0m\u001b[37m\u001b[0m \u001b[1m0s\u001b[0m 3ms/step - accuracy: 0.6549 - loss: 0.6246 - val_accuracy: 0.6550 - val_loss: 0.6368\n",
            "Epoch 6/10\n",
            "\u001b[1m80/80\u001b[0m \u001b[32m━━━━━━━━━━━━━━━━━━━━\u001b[0m\u001b[37m\u001b[0m \u001b[1m0s\u001b[0m 3ms/step - accuracy: 0.6789 - loss: 0.6228 - val_accuracy: 0.6700 - val_loss: 0.6269\n",
            "Epoch 7/10\n",
            "\u001b[1m80/80\u001b[0m \u001b[32m━━━━━━━━━━━━━━━━━━━━\u001b[0m\u001b[37m\u001b[0m \u001b[1m0s\u001b[0m 3ms/step - accuracy: 0.6900 - loss: 0.6119 - val_accuracy: 0.6900 - val_loss: 0.6144\n",
            "Epoch 8/10\n",
            "\u001b[1m80/80\u001b[0m \u001b[32m━━━━━━━━━━━━━━━━━━━━\u001b[0m\u001b[37m\u001b[0m \u001b[1m0s\u001b[0m 3ms/step - accuracy: 0.6934 - loss: 0.5923 - val_accuracy: 0.6900 - val_loss: 0.6015\n",
            "Epoch 9/10\n",
            "\u001b[1m80/80\u001b[0m \u001b[32m━━━━━━━━━━━━━━━━━━━━\u001b[0m\u001b[37m\u001b[0m \u001b[1m0s\u001b[0m 3ms/step - accuracy: 0.7542 - loss: 0.5808 - val_accuracy: 0.7150 - val_loss: 0.5876\n",
            "Epoch 10/10\n",
            "\u001b[1m80/80\u001b[0m \u001b[32m━━━━━━━━━━━━━━━━━━━━\u001b[0m\u001b[37m\u001b[0m \u001b[1m0s\u001b[0m 3ms/step - accuracy: 0.7529 - loss: 0.5555 - val_accuracy: 0.7450 - val_loss: 0.5751\n"
          ]
        }
      ]
    },
    {
      "cell_type": "code",
      "source": [
        "import matplotlib.pyplot as plt\n",
        "\n",
        "# Plot training & validation loss values\n",
        "plt.plot(history.history['loss'], label='Training Loss')\n",
        "plt.plot(history.history['val_loss'], label='Validation Loss')\n",
        "plt.title('Model Loss')\n",
        "plt.ylabel('Loss')\n",
        "plt.xlabel('Epoch')\n",
        "plt.legend()\n",
        "plt.show()\n",
        "\n",
        "# If you’re tracking accuracy (for classification)\n",
        "if 'accuracy' in history.history:\n",
        "    plt.plot(history.history['accuracy'], label='Training Accuracy')\n",
        "    plt.plot(history.history['val_accuracy'], label='Validation Accuracy')\n",
        "    plt.title('Model Accuracy')\n",
        "    plt.ylabel('Accuracy')\n",
        "    plt.xlabel('Epoch')\n",
        "    plt.legend()\n",
        "    plt.show()\n"
      ],
      "metadata": {
        "colab": {
          "base_uri": "https://localhost:8080/",
          "height": 927
        },
        "id": "SmTBDLcwSDbJ",
        "outputId": "5b9c65a4-feb6-44c8-cd43-228314ceec68"
      },
      "execution_count": null,
      "outputs": [
        {
          "output_type": "display_data",
          "data": {
            "text/plain": [
              "<Figure size 640x480 with 1 Axes>"
            ],
            "image/png": "[encoded data removed]"
          },
          "metadata": {}
        },
        {
          "output_type": "display_data",
          "data": {
            "text/plain": [
              "<Figure size 640x480 with 1 Axes>"
            ],
            "image/png": "[encoded data removed]"
          },
          "metadata": {}
        }
      ]
    },
    {
      "cell_type": "markdown",
      "source": [
        "**Q5.**How do you install PyTorch and verify the PyTorch installation."
      ],
      "metadata": {
        "id": "gtwK7RMeSOgd"
      }
    },
    {
      "cell_type": "code",
      "source": [
        "import torch\n",
        "\n",
        "print(\"PyTorch version:\", torch.__version__)\n",
        "print(\"Is CUDA (GPU) available:\", torch.cuda.is_available())\n",
        "if torch.cuda.is_available():\n",
        "    print(\"GPU Name:\", torch.cuda.get_device_name(0))"
      ],
      "metadata": {
        "colab": {
          "base_uri": "https://localhost:8080/"
        },
        "id": "5Yu6xmaaSDd8",
        "outputId": "d64a8169-dbd7-4cc4-99e4-ac9f9d505715"
      },
      "execution_count": null,
      "outputs": [
        {
          "output_type": "stream",
          "name": "stdout",
          "text": [
            "PyTorch version: 2.1.0+cpu\n",
            "Is CUDA (GPU) available: False\n"
          ]
        }
      ]
    },
    {
      "cell_type": "code",
      "source": [
        "# Example: Install PyTorch 2.1.0 with CPU-only\n",
        "!pip install torch==2.1.0 torchvision torchaudio --index-url https://download.pytorch.org/whl/cpu\n",
        "\n",
        "# Or with CUDA (if needed)\n",
        "# !pip install torch==2.1.0 torchvision torchaudio --index-url https://download.pytorch.org/whl/cu118\n"
      ],
      "metadata": {
        "colab": {
          "base_uri": "https://localhost:8080/",
          "height": 1000
        },
        "id": "CDP4VMODSDhj",
        "outputId": "331b3157-7c28-4548-a88d-72a05a846bfa"
      },
      "execution_count": null,
      "outputs": [
        {
          "output_type": "stream",
          "name": "stdout",
          "text": [
            "Looking in indexes: https://download.pytorch.org/whl/cpu\n",
            "Collecting torch==2.1.0\n",
            "  Downloading https://download.pytorch.org/whl/cpu/torch-2.1.0%2Bcpu-cp311-cp311-linux_x86_64.whl (184.9 MB)\n",
            "\u001b[2K     \u001b[90m━━━━━━━━━━━━━━━━━━━━━━━━━━━━━━━━━━━━━━━\u001b[0m \u001b[32m184.9/184.9 MB\u001b[0m \u001b[31m5.7 MB/s\u001b[0m eta \u001b[36m0:00:00\u001b[0m\n",
            "\u001b[?25hRequirement already satisfied: torchvision in /usr/local/lib/python3.11/dist-packages (0.21.0+cu124)\n",
            "Requirement already satisfied: torchaudio in /usr/local/lib/python3.11/dist-packages (2.6.0+cu124)\n",
            "Requirement already satisfied: filelock in /usr/local/lib/python3.11/dist-packages (from torch==2.1.0) (3.18.0)\n",
            "Requirement already satisfied: typing-extensions in /usr/local/lib/python3.11/dist-packages (from torch==2.1.0) (4.14.1)\n",
            "Requirement already satisfied: sympy in /usr/local/lib/python3.11/dist-packages (from torch==2.1.0) (1.13.1)\n",
            "Requirement already satisfied: networkx in /usr/local/lib/python3.11/dist-packages (from torch==2.1.0) (3.5)\n",
            "Requirement already satisfied: jinja2 in /usr/local/lib/python3.11/dist-packages (from torch==2.1.0) (3.1.6)\n",
            "Requirement already satisfied: fsspec in /usr/local/lib/python3.11/dist-packages (from torch==2.1.0) (2025.3.2)\n",
            "Requirement already satisfied: numpy in /usr/local/lib/python3.11/dist-packages (from torchvision) (2.0.2)\n",
            "INFO: pip is looking at multiple versions of torchvision to determine which version is compatible with other requirements. This could take a while.\n",
            "Collecting torchvision\n",
            "  Downloading https://download.pytorch.org/whl/cpu/torchvision-0.22.1%2Bcpu-cp311-cp311-manylinux_2_28_x86_64.whl.metadata (6.1 kB)\n",
            "  Downloading https://download.pytorch.org/whl/cpu/torchvision-0.22.0%2Bcpu-cp311-cp311-manylinux_2_28_x86_64.whl.metadata (6.1 kB)\n",
            "  Downloading https://download.pytorch.org/whl/cpu/torchvision-0.21.0%2Bcpu-cp311-cp311-linux_x86_64.whl.metadata (6.1 kB)\n",
            "  Downloading https://download.pytorch.org/whl/cpu/torchvision-0.20.1%2Bcpu-cp311-cp311-linux_x86_64.whl (1.8 MB)\n",
            "\u001b[2K     \u001b[90m━━━━━━━━━━━━━━━━━━━━━━━━━━━━━━━━━━━━━━━━\u001b[0m \u001b[32m1.8/1.8 MB\u001b[0m \u001b[31m72.1 MB/s\u001b[0m eta \u001b[36m0:00:00\u001b[0m\n",
            "\u001b[?25h  Downloading https://download.pytorch.org/whl/cpu/torchvision-0.20.0%2Bcpu-cp311-cp311-linux_x86_64.whl (1.8 MB)\n",
            "\u001b[2K     \u001b[90m━━━━━━━━━━━━━━━━━━━━━━━━━━━━━━━━━━━━━━━━\u001b[0m \u001b[32m1.8/1.8 MB\u001b[0m \u001b[31m72.1 MB/s\u001b[0m eta \u001b[36m0:00:00\u001b[0m\n",
            "\u001b[?25h  Downloading https://download.pytorch.org/whl/cpu/torchvision-0.19.1%2Bcpu-cp311-cp311-linux_x86_64.whl (1.6 MB)\n",
            "\u001b[2K     \u001b[90m━━━━━━━━━━━━━━━━━━━━━━━━━━━━━━━━━━━━━━━━\u001b[0m \u001b[32m1.6/1.6 MB\u001b[0m \u001b[31m67.8 MB/s\u001b[0m eta \u001b[36m0:00:00\u001b[0m\n",
            "\u001b[?25h  Downloading https://download.pytorch.org/whl/cpu/torchvision-0.19.0%2Bcpu-cp311-cp311-linux_x86_64.whl (1.6 MB)\n",
            "\u001b[2K     \u001b[90m━━━━━━━━━━━━━━━━━━━━━━━━━━━━━━━━━━━━━━━━\u001b[0m \u001b[32m1.6/1.6 MB\u001b[0m \u001b[31m71.1 MB/s\u001b[0m eta \u001b[36m0:00:00\u001b[0m\n",
            "\u001b[?25hINFO: pip is still looking at multiple versions of torchvision to determine which version is compatible with other requirements. This could take a while.\n",
            "  Downloading https://download.pytorch.org/whl/cpu/torchvision-0.18.1%2Bcpu-cp311-cp311-linux_x86_64.whl (1.6 MB)\n",
            "\u001b[2K     \u001b[90m━━━━━━━━━━━━━━━━━━━━━━━━━━━━━━━━━━━━━━━━\u001b[0m \u001b[32m1.6/1.6 MB\u001b[0m \u001b[31m63.7 MB/s\u001b[0m eta \u001b[36m0:00:00\u001b[0m\n",
            "\u001b[?25h  Downloading https://download.pytorch.org/whl/cpu/torchvision-0.18.0%2Bcpu-cp311-cp311-linux_x86_64.whl (1.6 MB)\n",
            "\u001b[2K     \u001b[90m━━━━━━━━━━━━━━━━━━━━━━━━━━━━━━━━━━━━━━━━\u001b[0m \u001b[32m1.6/1.6 MB\u001b[0m \u001b[31m64.9 MB/s\u001b[0m eta \u001b[36m0:00:00\u001b[0m\n",
            "\u001b[?25h  Downloading https://download.pytorch.org/whl/cpu/torchvision-0.17.2%2Bcpu-cp311-cp311-linux_x86_64.whl (1.6 MB)\n",
            "\u001b[2K     \u001b[90m━━━━━━━━━━━━━━━━━━━━━━━━━━━━━━━━━━━━━━━━\u001b[0m \u001b[32m1.6/1.6 MB\u001b[0m \u001b[31m68.6 MB/s\u001b[0m eta \u001b[36m0:00:00\u001b[0m\n",
            "\u001b[?25h  Downloading https://download.pytorch.org/whl/cpu/torchvision-0.17.1%2Bcpu-cp311-cp311-linux_x86_64.whl (1.6 MB)\n",
            "\u001b[2K     \u001b[90m━━━━━━━━━━━━━━━━━━━━━━━━━━━━━━━━━━━━━━━━\u001b[0m \u001b[32m1.6/1.6 MB\u001b[0m \u001b[31m68.1 MB/s\u001b[0m eta \u001b[36m0:00:00\u001b[0m\n",
            "\u001b[?25h  Downloading https://download.pytorch.org/whl/cpu/torchvision-0.17.0%2Bcpu-cp311-cp311-linux_x86_64.whl (1.6 MB)\n",
            "\u001b[2K     \u001b[90m━━━━━━━━━━━━━━━━━━━━━━━━━━━━━━━━━━━━━━━━\u001b[0m \u001b[32m1.6/1.6 MB\u001b[0m \u001b[31m65.1 MB/s\u001b[0m eta \u001b[36m0:00:00\u001b[0m\n",
            "\u001b[?25hRequirement already satisfied: requests in /usr/local/lib/python3.11/dist-packages (from torchvision) (2.32.3)\n",
            "INFO: This is taking longer than usual. You might need to provide the dependency resolver with stricter constraints to reduce runtime. See https://pip.pypa.io/warnings/backtracking for guidance. If you want to abort this run, press Ctrl + C.\n",
            "  Downloading https://download.pytorch.org/whl/cpu/torchvision-0.16.2%2Bcpu-cp311-cp311-linux_x86_64.whl (1.5 MB)\n",
            "\u001b[2K     \u001b[90m━━━━━━━━━━━━━━━━━━━━━━━━━━━━━━━━━━━━━━━━\u001b[0m \u001b[32m1.5/1.5 MB\u001b[0m \u001b[31m67.6 MB/s\u001b[0m eta \u001b[36m0:00:00\u001b[0m\n",
            "\u001b[?25h  Downloading https://download.pytorch.org/whl/cpu/torchvision-0.16.1%2Bcpu-cp311-cp311-linux_x86_64.whl (1.5 MB)\n",
            "\u001b[2K     \u001b[90m━━━━━━━━━━━━━━━━━━━━━━━━━━━━━━━━━━━━━━━━\u001b[0m \u001b[32m1.5/1.5 MB\u001b[0m \u001b[31m66.0 MB/s\u001b[0m eta \u001b[36m0:00:00\u001b[0m\n",
            "\u001b[?25h  Downloading https://download.pytorch.org/whl/cpu/torchvision-0.16.0%2Bcpu-cp311-cp311-linux_x86_64.whl (1.6 MB)\n",
            "\u001b[2K     \u001b[90m━━━━━━━━━━━━━━━━━━━━━━━━━━━━━━━━━━━━━━━━\u001b[0m \u001b[32m1.6/1.6 MB\u001b[0m \u001b[31m68.9 MB/s\u001b[0m eta \u001b[36m0:00:00\u001b[0m\n",
            "\u001b[?25hRequirement already satisfied: pillow!=8.3.*,>=5.3.0 in /usr/local/lib/python3.11/dist-packages (from torchvision) (11.2.1)\n",
            "INFO: pip is looking at multiple versions of torchaudio to determine which version is compatible with other requirements. This could take a while.\n",
            "Collecting torchaudio\n",
            "  Downloading https://download.pytorch.org/whl/cpu/torchaudio-2.7.1%2Bcpu-cp311-cp311-manylinux_2_28_x86_64.whl.metadata (6.6 kB)\n",
            "  Downloading https://download.pytorch.org/whl/cpu/torchaudio-2.7.0%2Bcpu-cp311-cp311-manylinux_2_28_x86_64.whl.metadata (6.6 kB)\n",
            "  Downloading https://download.pytorch.org/whl/cpu/torchaudio-2.6.0%2Bcpu-cp311-cp311-linux_x86_64.whl.metadata (6.6 kB)\n",
            "  Downloading https://download.pytorch.org/whl/cpu/torchaudio-2.5.1%2Bcpu-cp311-cp311-linux_x86_64.whl (1.7 MB)\n",
            "\u001b[2K     \u001b[90m━━━━━━━━━━━━━━━━━━━━━━━━━━━━━━━━━━━━━━━━\u001b[0m \u001b[32m1.7/1.7 MB\u001b[0m \u001b[31m56.9 MB/s\u001b[0m eta \u001b[36m0:00:00\u001b[0m\n",
            "\u001b[?25h  Downloading https://download.pytorch.org/whl/cpu/torchaudio-2.5.0%2Bcpu-cp311-cp311-linux_x86_64.whl (1.7 MB)\n",
            "\u001b[2K     \u001b[90m━━━━━━━━━━━━━━━━━━━━━━━━━━━━━━━━━━━━━━━━\u001b[0m \u001b[32m1.7/1.7 MB\u001b[0m \u001b[31m54.3 MB/s\u001b[0m eta \u001b[36m0:00:00\u001b[0m\n",
            "\u001b[?25h  Downloading https://download.pytorch.org/whl/cpu/torchaudio-2.4.1%2Bcpu-cp311-cp311-linux_x86_64.whl (1.7 MB)\n",
            "\u001b[2K     \u001b[90m━━━━━━━━━━━━━━━━━━━━━━━━━━━━━━━━━━━━━━━━\u001b[0m \u001b[32m1.7/1.7 MB\u001b[0m \u001b[31m55.7 MB/s\u001b[0m eta \u001b[36m0:00:00\u001b[0m\n",
            "\u001b[?25h  Downloading https://download.pytorch.org/whl/cpu/torchaudio-2.4.0%2Bcpu-cp311-cp311-linux_x86_64.whl (1.7 MB)\n",
            "\u001b[2K     \u001b[90m━━━━━━━━━━━━━━━━━━━━━━━━━━━━━━━━━━━━━━━━\u001b[0m \u001b[32m1.7/1.7 MB\u001b[0m \u001b[31m19.4 MB/s\u001b[0m eta \u001b[36m0:00:00\u001b[0m\n",
            "\u001b[?25hINFO: pip is still looking at multiple versions of torchaudio to determine which version is compatible with other requirements. This could take a while.\n",
            "  Downloading https://download.pytorch.org/whl/cpu/torchaudio-2.3.1%2Bcpu-cp311-cp311-linux_x86_64.whl (1.7 MB)\n",
            "\u001b[2K     \u001b[90m━━━━━━━━━━━━━━━━━━━━━━━━━━━━━━━━━━━━━━━━\u001b[0m \u001b[32m1.7/1.7 MB\u001b[0m \u001b[31m58.9 MB/s\u001b[0m eta \u001b[36m0:00:00\u001b[0m\n",
            "\u001b[?25h  Downloading https://download.pytorch.org/whl/cpu/torchaudio-2.3.0%2Bcpu-cp311-cp311-linux_x86_64.whl (1.7 MB)\n",
            "\u001b[2K     \u001b[90m━━━━━━━━━━━━━━━━━━━━━━━━━━━━━━━━━━━━━━━━\u001b[0m \u001b[32m1.7/1.7 MB\u001b[0m \u001b[31m57.5 MB/s\u001b[0m eta \u001b[36m0:00:00\u001b[0m\n",
            "\u001b[?25h  Downloading https://download.pytorch.org/whl/cpu/torchaudio-2.2.2%2Bcpu-cp311-cp311-linux_x86_64.whl (1.7 MB)\n",
            "\u001b[2K     \u001b[90m━━━━━━━━━━━━━━━━━━━━━━━━━━━━━━━━━━━━━━━━\u001b[0m \u001b[32m1.7/1.7 MB\u001b[0m \u001b[31m54.6 MB/s\u001b[0m eta \u001b[36m0:00:00\u001b[0m\n",
            "\u001b[?25h  Downloading https://download.pytorch.org/whl/cpu/torchaudio-2.2.1%2Bcpu-cp311-cp311-linux_x86_64.whl (1.7 MB)\n",
            "\u001b[2K     \u001b[90m━━━━━━━━━━━━━━━━━━━━━━━━━━━━━━━━━━━━━━━━\u001b[0m \u001b[32m1.7/1.7 MB\u001b[0m \u001b[31m47.4 MB/s\u001b[0m eta \u001b[36m0:00:00\u001b[0m\n",
            "\u001b[?25h  Downloading https://download.pytorch.org/whl/cpu/torchaudio-2.2.0%2Bcpu-cp311-cp311-linux_x86_64.whl (1.7 MB)\n",
            "\u001b[2K     \u001b[90m━━━━━━━━━━━━━━━━━━━━━━━━━━━━━━━━━━━━━━━━\u001b[0m \u001b[32m1.7/1.7 MB\u001b[0m \u001b[31m47.6 MB/s\u001b[0m eta \u001b[36m0:00:00\u001b[0m\n",
            "\u001b[?25hINFO: This is taking longer than usual. You might need to provide the dependency resolver with stricter constraints to reduce runtime. See https://pip.pypa.io/warnings/backtracking for guidance. If you want to abort this run, press Ctrl + C.\n",
            "  Downloading https://download.pytorch.org/whl/cpu/torchaudio-2.1.2%2Bcpu-cp311-cp311-linux_x86_64.whl (1.6 MB)\n",
            "\u001b[2K     \u001b[90m━━━━━━━━━━━━━━━━━━━━━━━━━━━━━━━━━━━━━━━━\u001b[0m \u001b[32m1.6/1.6 MB\u001b[0m \u001b[31m4.1 MB/s\u001b[0m eta \u001b[36m0:00:00\u001b[0m\n",
            "\u001b[?25h  Downloading https://download.pytorch.org/whl/cpu/torchaudio-2.1.1%2Bcpu-cp311-cp311-linux_x86_64.whl (1.6 MB)\n",
            "\u001b[2K     \u001b[90m━━━━━━━━━━━━━━━━━━━━━━━━━━━━━━━━━━━━━━━━\u001b[0m \u001b[32m1.6/1.6 MB\u001b[0m \u001b[31m66.8 MB/s\u001b[0m eta \u001b[36m0:00:00\u001b[0m\n",
            "\u001b[?25h  Downloading https://download.pytorch.org/whl/cpu/torchaudio-2.1.0%2Bcpu-cp311-cp311-linux_x86_64.whl (1.6 MB)\n",
            "\u001b[2K     \u001b[90m━━━━━━━━━━━━━━━━━━━━━━━━━━━━━━━━━━━━━━━━\u001b[0m \u001b[32m1.6/1.6 MB\u001b[0m \u001b[31m66.0 MB/s\u001b[0m eta \u001b[36m0:00:00\u001b[0m\n",
            "\u001b[?25hRequirement already satisfied: MarkupSafe>=2.0 in /usr/local/lib/python3.11/dist-packages (from jinja2->torch==2.1.0) (3.0.2)\n",
            "Requirement already satisfied: charset-normalizer<4,>=2 in /usr/local/lib/python3.11/dist-packages (from requests->torchvision) (3.4.2)\n",
            "Requirement already satisfied: idna<4,>=2.5 in /usr/local/lib/python3.11/dist-packages (from requests->torchvision) (3.10)\n",
            "Requirement already satisfied: urllib3<3,>=1.21.1 in /usr/local/lib/python3.11/dist-packages (from requests->torchvision) (2.4.0)\n",
            "Requirement already satisfied: certifi>=2017.4.17 in /usr/local/lib/python3.11/dist-packages (from requests->torchvision) (2025.7.14)\n",
            "Requirement already satisfied: mpmath<1.4,>=1.1.0 in /usr/local/lib/python3.11/dist-packages (from sympy->torch==2.1.0) (1.3.0)\n",
            "Installing collected packages: torch, torchvision, torchaudio\n",
            "  Attempting uninstall: torch\n",
            "    Found existing installation: torch 2.6.0+cu124\n",
            "    Uninstalling torch-2.6.0+cu124:\n",
            "      Successfully uninstalled torch-2.6.0+cu124\n",
            "  Attempting uninstall: torchvision\n",
            "    Found existing installation: torchvision 0.21.0+cu124\n",
            "    Uninstalling torchvision-0.21.0+cu124:\n",
            "      Successfully uninstalled torchvision-0.21.0+cu124\n",
            "  Attempting uninstall: torchaudio\n",
            "    Found existing installation: torchaudio 2.6.0+cu124\n",
            "    Uninstalling torchaudio-2.6.0+cu124:\n",
            "      Successfully uninstalled torchaudio-2.6.0+cu124\n",
            "Successfully installed torch-2.1.0+cpu torchaudio-2.1.0+cpu torchvision-0.16.0+cpu\n"
          ]
        },
        {
          "output_type": "display_data",
          "data": {
            "application/vnd.colab-display-data+json": {
              "pip_warning": {
                "packages": [
                  "torch",
                  "torchgen"
                ]
              },
              "id": "31767573432f4635b7bbe61848a2896e"
            }
          },
          "metadata": {}
        }
      ]
    },
    {
      "cell_type": "code",
      "execution_count": null,
      "metadata": {
        "id": "W12J9G-ANzNV",
        "colab": {
          "base_uri": "https://localhost:8080/"
        },
        "outputId": "21cb7e02-c4c3-4f7d-fbec-976ea08524c7"
      },
      "outputs": [
        {
          "output_type": "stream",
          "name": "stdout",
          "text": [
            "x:\n",
            " tensor([[0.7994, 0.0690, 0.2876],\n",
            "        [0.4894, 0.9689, 0.3957]])\n",
            "y:\n",
            " tensor([[0.3094, 0.6990, 0.4648],\n",
            "        [0.5678, 0.2226, 0.5998]])\n",
            "z = x + y:\n",
            " tensor([[1.1088, 0.7680, 0.7525],\n",
            "        [1.0572, 1.1914, 0.9955]])\n"
          ]
        }
      ],
      "source": [
        "# Simple tensor operations\n",
        "x = torch.rand(2, 3)\n",
        "y = torch.rand(2, 3)\n",
        "z = x + y\n",
        "\n",
        "print(\"x:\\n\", x)\n",
        "print(\"y:\\n\", y)\n",
        "print(\"z = x + y:\\n\", z)\n"
      ]
    },
    {
      "cell_type": "markdown",
      "source": [
        "**Q6**.How do you create a simple neural network in PyTorch?"
      ],
      "metadata": {
        "id": "0KCoOhjATRrc"
      }
    },
    {
      "cell_type": "code",
      "source": [
        "import torch\n",
        "import torch.nn as nn\n",
        "import torch.optim as optim\n",
        "from torch.utils.data import DataLoader, TensorDataset"
      ],
      "metadata": {
        "id": "xK9TFf5NTb4Y"
      },
      "execution_count": 6,
      "outputs": []
    },
    {
      "cell_type": "code",
      "source": [
        "\n",
        "# 1. Sample data (X: inputs, y: targets)\n",
        "X = torch.randn(100, 2)         # 100 samples, 2 features\n",
        "y = (X[:, 0] + X[:, 1] > 0).float().unsqueeze(1)  # Simple binary classification"
      ],
      "metadata": {
        "id": "TVNmVyevTb63"
      },
      "execution_count": 7,
      "outputs": []
    },
    {
      "cell_type": "code",
      "source": [
        "# 2. Define the model\n",
        "class SimpleNN(nn.Module):\n",
        "    def __init__(self):\n",
        "        super(SimpleNN, self).__init__()\n",
        "        self.fc1 = nn.Linear(2, 4)   # 2 input features -> 4 hidden units\n",
        "        self.relu = nn.ReLU()\n",
        "        self.fc2 = nn.Linear(4, 1)   # 4 hidden units -> 1 output (binary)\n",
        "\n",
        "    def forward(self, x):\n",
        "        x = self.fc1(x)\n",
        "        x = self.relu(x)\n",
        "        x = self.fc2(x)\n",
        "        return torch.sigmoid(x)  # Use sigmoid for binary output\n",
        "\n"
      ],
      "metadata": {
        "id": "suKNnxl9Tb9R"
      },
      "execution_count": 8,
      "outputs": []
    },
    {
      "cell_type": "code",
      "source": [
        "model = SimpleNN()\n"
      ],
      "metadata": {
        "id": "CctuAWq3UR4j"
      },
      "execution_count": 9,
      "outputs": []
    },
    {
      "cell_type": "code",
      "source": [
        "# 3. Loss function and optimizer\n",
        "criterion = nn.BCELoss()                  # Binary Cross-Entropy Loss\n",
        "optimizer = optim.Adam(model.parameters(), lr=0.01)"
      ],
      "metadata": {
        "id": "5Y28NXB8Tb_3"
      },
      "execution_count": 10,
      "outputs": []
    },
    {
      "cell_type": "code",
      "source": [
        "# 4. DataLoader (optional but useful)\n",
        "dataset = TensorDataset(X, y)\n",
        "loader = DataLoader(dataset, batch_size=10, shuffle=True)"
      ],
      "metadata": {
        "id": "OC8h2tWrTcCh"
      },
      "execution_count": 11,
      "outputs": []
    },
    {
      "cell_type": "code",
      "source": [
        "# 5. Training loop\n",
        "for epoch in range(20):\n",
        "    for batch_X, batch_y in loader:\n",
        "        optimizer.zero_grad()\n",
        "        outputs = model(batch_X)\n",
        "        loss = criterion(outputs, batch_y)\n",
        "        loss.backward()\n",
        "        optimizer.step()\n",
        "\n",
        "    print(f\"Epoch {epoch+1}, Loss: {loss.item():.4f}\")"
      ],
      "metadata": {
        "id": "Cyjy8EGRTcFV",
        "colab": {
          "base_uri": "https://localhost:8080/"
        },
        "outputId": "915e51bd-2278-468d-cd50-0275dba8894b"
      },
      "execution_count": 12,
      "outputs": [
        {
          "output_type": "stream",
          "name": "stdout",
          "text": [
            "Epoch 1, Loss: 0.7453\n",
            "Epoch 2, Loss: 0.5473\n",
            "Epoch 3, Loss: 0.5611\n",
            "Epoch 4, Loss: 0.4429\n",
            "Epoch 5, Loss: 0.3579\n",
            "Epoch 6, Loss: 0.4449\n",
            "Epoch 7, Loss: 0.2636\n",
            "Epoch 8, Loss: 0.1472\n",
            "Epoch 9, Loss: 0.1344\n",
            "Epoch 10, Loss: 0.1670\n",
            "Epoch 11, Loss: 0.1163\n",
            "Epoch 12, Loss: 0.0871\n",
            "Epoch 13, Loss: 0.0811\n",
            "Epoch 14, Loss: 0.1048\n",
            "Epoch 15, Loss: 0.1415\n",
            "Epoch 16, Loss: 0.1109\n",
            "Epoch 17, Loss: 0.0496\n",
            "Epoch 18, Loss: 0.1053\n",
            "Epoch 19, Loss: 0.0624\n",
            "Epoch 20, Loss: 0.1443\n"
          ]
        }
      ]
    },
    {
      "cell_type": "code",
      "source": [
        "# 6. Test the model\n",
        "with torch.no_grad():\n",
        "    test_input = torch.tensor([[1.0, 1.0], [-1.0, -1.0]])\n",
        "    prediction = model(test_input)\n",
        "    print(\"Predictions:\", prediction)"
      ],
      "metadata": {
        "id": "vrQFuansWnFr",
        "outputId": "cc833ed6-397d-470c-9048-5dbf7799d894",
        "colab": {
          "base_uri": "https://localhost:8080/"
        }
      },
      "execution_count": 13,
      "outputs": [
        {
          "output_type": "stream",
          "name": "stdout",
          "text": [
            "Predictions: tensor([[0.9992],\n",
            "        [0.0022]])\n"
          ]
        }
      ]
    },
    {
      "cell_type": "markdown",
      "source": [
        "Q7.How do you define a loss function and optimizer in PyTorch?"
      ],
      "metadata": {
        "id": "NO0N8VUHwH8r"
      }
    },
    {
      "cell_type": "code",
      "source": [
        "import torch\n",
        "import torch.nn as nn\n",
        "import torch.optim as optim\n",
        "\n",
        "# Dummy data: 100 samples, 2 features\n",
        "X = torch.randn(100, 2)\n",
        "y = (X[:, 0] + X[:, 1] > 0).float().unsqueeze(1)  # Binary labels (0 or 1)\n"
      ],
      "metadata": {
        "id": "1MT4yp9XWC5o"
      },
      "execution_count": 33,
      "outputs": []
    },
    {
      "cell_type": "code",
      "source": [
        "class BinaryClassifier(nn.Module):\n",
        "    def __init__(self):\n",
        "        super(BinaryClassifier, self).__init__()\n",
        "        self.linear = nn.Linear(2, 1)  # Input: 2 features → Output: 1 score\n",
        "\n",
        "    def forward(self, x):\n",
        "        return torch.sigmoid(self.linear(x))  # Use sigmoid for binary classification"
      ],
      "metadata": {
        "id": "bZALH8h0WC9B"
      },
      "execution_count": 34,
      "outputs": []
    },
    {
      "cell_type": "code",
      "source": [
        "model = BinaryClassifier()"
      ],
      "metadata": {
        "id": "z_dypl0fTcI8"
      },
      "execution_count": 35,
      "outputs": []
    },
    {
      "cell_type": "code",
      "source": [
        "criterion = nn.BCELoss()  # Loss function"
      ],
      "metadata": {
        "id": "iWJYMUXxzqfL"
      },
      "execution_count": 36,
      "outputs": []
    },
    {
      "cell_type": "code",
      "source": [
        "optimizer = optim.Adam(model.parameters(), lr=0.01)"
      ],
      "metadata": {
        "id": "ro_njmwIzqim"
      },
      "execution_count": 37,
      "outputs": []
    },
    {
      "cell_type": "code",
      "source": [
        "for epoch in range(20):\n",
        "    # Forward pass\n",
        "    outputs = model(X)\n",
        "    loss = criterion(outputs, y)\n",
        "\n",
        "    # Backward pass and optimization\n",
        "    optimizer.zero_grad()  # Clear previous gradients\n",
        "    loss.backward()        # Backpropagate\n",
        "    optimizer.step()       # Update weights\n",
        "\n",
        "    if epoch % 5 == 0:\n",
        "        print(f\"Epoch {epoch}, Loss: {loss.item():.4f}\")"
      ],
      "metadata": {
        "colab": {
          "base_uri": "https://localhost:8080/"
        },
        "id": "gLcFlgg-zxYY",
        "outputId": "7ab93734-3efc-482e-e675-3f6f917c465c"
      },
      "execution_count": 38,
      "outputs": [
        {
          "output_type": "stream",
          "name": "stdout",
          "text": [
            "Epoch 0, Loss: 0.8064\n",
            "Epoch 5, Loss: 0.7665\n",
            "Epoch 10, Loss: 0.7286\n",
            "Epoch 15, Loss: 0.6929\n"
          ]
        }
      ]
    },
    {
      "cell_type": "markdown",
      "source": [
        "Q8. How do you implement a custom loss function in PyTorch?"
      ],
      "metadata": {
        "id": "G8XOcA2xwuao"
      }
    },
    {
      "cell_type": "code",
      "source": [
        "#Define a simple regression model\n",
        "\n",
        "import torch\n",
        "import torch.nn as nn\n",
        "import torch.optim as optim\n",
        "\n",
        "class SimpleRegressor(nn.Module):\n",
        "    def __init__(self):\n",
        "        super(SimpleRegressor, self).__init__()\n",
        "        self.fc = nn.Linear(1, 1)\n",
        "\n",
        "    def forward(self, x):\n",
        "        return self.fc(x)"
      ],
      "metadata": {
        "id": "-7YWJMoWw8IK"
      },
      "execution_count": 22,
      "outputs": []
    },
    {
      "cell_type": "code",
      "source": [
        "#Define the custom loss function\n",
        "\n",
        "class AsymmetricLoss(nn.Module):\n",
        "    def __init__(self, under_penalty=2.0):\n",
        "        super(AsymmetricLoss, self).__init__()\n",
        "        self.under_penalty = under_penalty\n",
        "\n",
        "    def forward(self, predictions, targets):\n",
        "        diff = predictions - targets\n",
        "        loss = torch.where(\n",
        "            diff < 0,                            # underestimation\n",
        "            self.under_penalty * diff**2,        # heavier penalty\n",
        "            diff**2                              # normal penalty\n",
        "        )\n",
        "        return torch.mean(loss)"
      ],
      "metadata": {
        "id": "qHiczTlMw8Ko"
      },
      "execution_count": 23,
      "outputs": []
    },
    {
      "cell_type": "code",
      "source": [
        "#Train the model with dummy data\n",
        "# Sample data: y = 2x + 1 (with noise)\n",
        "X = torch.unsqueeze(torch.linspace(0, 10, 100), dim=1)\n",
        "y = 2 * X + 1 + 0.5 * torch.randn_like(X)\n",
        "\n",
        "model = SimpleRegressor()\n",
        "criterion = AsymmetricLoss(under_penalty=3.0)  # Heavier penalty for underestimating\n",
        "optimizer = optim.Adam(model.parameters(), lr=0.01)\n",
        "\n",
        "# Training loop\n",
        "for epoch in range(100):\n",
        "    model.train()\n",
        "    optimizer.zero_grad()\n",
        "    outputs = model(X)\n",
        "    loss = criterion(outputs, y)\n",
        "    loss.backward()\n",
        "    optimizer.step()\n",
        "    if epoch % 10 == 0:\n",
        "        print(f\"Epoch {epoch}, Loss: {loss.item():.4f}\")"
      ],
      "metadata": {
        "colab": {
          "base_uri": "https://localhost:8080/"
        },
        "id": "1QVaN6Fqw8NL",
        "outputId": "551b410e-b043-4b19-8eb1-4cf0aab852b1"
      },
      "execution_count": 24,
      "outputs": [
        {
          "output_type": "stream",
          "name": "stdout",
          "text": [
            "Epoch 0, Loss: 276.8839\n",
            "Epoch 10, Loss: 239.9289\n",
            "Epoch 20, Loss: 206.0660\n",
            "Epoch 30, Loss: 175.5296\n",
            "Epoch 40, Loss: 148.3674\n",
            "Epoch 50, Loss: 124.4800\n",
            "Epoch 60, Loss: 103.6764\n",
            "Epoch 70, Loss: 85.7190\n",
            "Epoch 80, Loss: 70.3507\n",
            "Epoch 90, Loss: 57.3107\n"
          ]
        }
      ]
    },
    {
      "cell_type": "code",
      "source": [
        "# Test the model\n",
        "\n",
        "model.eval()\n",
        "with torch.no_grad():\n",
        "    test_input = torch.tensor([[4.0]])\n",
        "    prediction = model(test_input)\n",
        "    print(\"Prediction for x=4.0:\", prediction.item())"
      ],
      "metadata": {
        "colab": {
          "base_uri": "https://localhost:8080/"
        },
        "id": "EgU-IhBkw8QA",
        "outputId": "b814fe68-9f12-42dc-865e-2c61356c1162"
      },
      "execution_count": 25,
      "outputs": [
        {
          "output_type": "stream",
          "name": "stdout",
          "text": [
            "Prediction for x=4.0: 6.38890266418457\n"
          ]
        }
      ]
    },
    {
      "cell_type": "markdown",
      "source": [
        "**Q9.**How do you save and load a TensorFlow model?"
      ],
      "metadata": {
        "id": "qUQWXPwdyToZ"
      }
    },
    {
      "cell_type": "code",
      "source": [
        "import warnings\n",
        "warnings.filterwarnings(\"ignore\")"
      ],
      "metadata": {
        "id": "dryPwF0Yyjo5"
      },
      "execution_count": 27,
      "outputs": []
    },
    {
      "cell_type": "code",
      "source": [
        "# Save the model\n",
        "import tensorflow as tf\n",
        "from tensorflow.keras import layers\n",
        "\n",
        "# Define a simple model\n",
        "model = tf.keras.Sequential([\n",
        "    layers.Dense(10, activation='relu', input_shape=(5,)),\n",
        "    layers.Dense(1)\n",
        "])\n",
        "\n",
        "model.compile(optimizer='adam', loss='mse')\n",
        "\n",
        "# Save the entire model\n",
        "model.save('my_model.keras')  # or 'my_model' for SavedModel format\n"
      ],
      "metadata": {
        "id": "KjddCIgsyWBi"
      },
      "execution_count": 28,
      "outputs": []
    },
    {
      "cell_type": "code",
      "source": [
        "# Load the model\n",
        "# Load the entire model\n",
        "loaded_model = tf.keras.models.load_model('my_model.keras')\n",
        "\n",
        "# Use it\n",
        "import numpy as np\n",
        "sample_input = np.random.rand(1, 5)\n",
        "prediction = loaded_model.predict(sample_input)\n",
        "print(\"Prediction:\", prediction)"
      ],
      "metadata": {
        "colab": {
          "base_uri": "https://localhost:8080/"
        },
        "id": "cyjkS-nHyWFA",
        "outputId": "a82a1c04-fa18-42e2-f090-7acb88988986"
      },
      "execution_count": 29,
      "outputs": [
        {
          "output_type": "stream",
          "name": "stdout",
          "text": [
            "\u001b[1m1/1\u001b[0m \u001b[32m━━━━━━━━━━━━━━━━━━━━\u001b[0m\u001b[37m\u001b[0m \u001b[1m0s\u001b[0m 115ms/step\n",
            "Prediction: [[0.6541089]]\n"
          ]
        }
      ]
    },
    {
      "cell_type": "code",
      "source": [
        "# Save only weights\n",
        "model.save_weights('my_weights.weights.h5')"
      ],
      "metadata": {
        "id": "MAG_AiTuw8TU"
      },
      "execution_count": 31,
      "outputs": []
    },
    {
      "cell_type": "code",
      "source": [
        "# Recreate the same model structure\n",
        "new_model = tf.keras.Sequential([\n",
        "    layers.Dense(10, activation='relu', input_shape=(5,)),\n",
        "    layers.Dense(1)\n",
        "])\n",
        "new_model.compile(optimizer='adam', loss='mse')\n",
        "\n",
        "# Load the weights\n",
        "new_model.load_weights('my_weights.weights.h5')\n"
      ],
      "metadata": {
        "id": "ZnmqYGLqy4GH"
      },
      "execution_count": 32,
      "outputs": []
    }
  ],
  "metadata": {
    "colab": {
      "provenance": [],
      "authorship_tag": "ABX9TyMydTkKbEMOpQS5fmoGcjrY",
      "include_colab_link": true
    },
    "kernelspec": {
      "display_name": "Python 3",
      "name": "python3"
    },
    "language_info": {
      "name": "python"
    }
  },
  "nbformat": 4,
  "nbformat_minor": 0
}