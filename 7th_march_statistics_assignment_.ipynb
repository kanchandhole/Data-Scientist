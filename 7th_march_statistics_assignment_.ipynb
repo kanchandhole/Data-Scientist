{
  "nbformat": 4,
  "nbformat_minor": 0,
  "metadata": {
    "colab": {
      "provenance": [],
      "authorship_tag": "ABX9TyPkgJhd4AK38RIk1qCk/40o",
      "include_colab_link": true
    },
    "kernelspec": {
      "name": "python3",
      "display_name": "Python 3"
    },
    "language_info": {
      "name": "python"
    }
  },
  "cells": [
    {
      "cell_type": "markdown",
      "metadata": {
        "id": "view-in-github",
        "colab_type": "text"
      },
      "source": [
        "<a href=\"https://colab.research.google.com/github/kanchandhole/Data-Scientist/blob/main/7th_march_statistics_assignment_.ipynb\" target=\"_parent\"><img src=\"https://colab.research.google.com/assets/colab-badge.svg\" alt=\"Open In Colab\"/></a>"
      ]
    },
    {
      "cell_type": "markdown",
      "source": [
        "**Q1.** What are the three measures of central tendency?\n",
        "\n",
        "**Ans:**\n",
        "\n",
        "The three primary measures of central tendency are mean, median, and mode.\n",
        "\n",
        "Mean: The arithmetic average of a dataset, calculated by summing all values and dividing by the number of values.\n",
        "\n",
        "Median: The middle value in an ordered dataset. When there's an even number of values, the median is the average of the two middle values.\n",
        "\n",
        "Mode: The value that appears most frequently in a dataset."
      ],
      "metadata": {
        "id": "R8ejDHz_pl53"
      }
    },
    {
      "cell_type": "markdown",
      "source": [
        "**Q2.** What is the difference between the mean, median, and mode? How are they used to measure the\n",
        "central tendency of a dataset?\n",
        "\n",
        "**Ans:**\n",
        "\n",
        "Mean, median, and mode are measures of central tendency.\n",
        "\n",
        "Central tendency describes the center of a dataset.\n",
        "\n",
        "Outliers affect the mean more than the median or mode.\n",
        "\n",
        "The mode can be non-unique or not exist.\n",
        "\n",
        "Step 1\n",
        ".\n",
        "Define the mean.\n",
        "The mean is the average of a dataset.\n",
        "It is calculated by summing all values and dividing by the number of values:\n",
        "\n",
        "mean = xi\\n\n",
        "\n",
        "where xi represents each value in the dataset and \\(n\\) is the number of values.\n",
        "\n",
        "values.\n",
        "\n",
        "Step 2\n",
        ".\n",
        "Define the median.\n",
        "The median is the middle value in an ordered dataset.\n",
        "If the dataset has an odd number of values, the median is the middle value.\n",
        "If the dataset has an even number of values, the median is the average of the two middle values.\n",
        "\n",
        "Step 3\n",
        ".\n",
        "Define the mode.\n",
        "The mode is the value that appears most frequently in a dataset.\n",
        "A dataset can have one mode (unimodal), multiple modes (multimodal), or no mode.\n",
        "\n",
        "Step 4\n",
        ".\n",
        "Compare mean, median, and mode.\n",
        "The mean uses all values, so it is sensitive to outliers.\n",
        "The median is not affected by outliers, making it useful for skewed data.\n",
        "The mode identifies the most common value(s), useful for categorical data.\n",
        "\n",
        "Step 5\n",
        ".\n",
        "Explain how they measure central tendency.\n",
        "The mean represents the typical value if the data is evenly distributed.\n",
        "The median represents the central value, useful when data is skewed.\n",
        "The mode represents the most frequent value, useful for identifying common occurrences.\n",
        "\n",
        "Solution\n",
        "The mean is the average, the median is the middle value, and the mode is the most frequent value; they measure central tendency by identifying typical, central, and common values in a dataset.\n",
        "\n",
        "\n"
      ],
      "metadata": {
        "id": "5F9JPTMXp-Mk"
      }
    },
    {
      "cell_type": "markdown",
      "source": [
        "**Q3.** Measure the three measures of central tendency for the given height data:\n",
        "[178,177,176,177,178.2,178,175,179,180,175,178.9,176.2,177,172.5,178,176.5]\n",
        "\n",
        "mean = 2832.3/16\n",
        "     = 177.01\n",
        "\n",
        "\n",
        "median = 179+180/2\n",
        "       =  179.5\n",
        "\n",
        "mode   =  178 , 177"
      ],
      "metadata": {
        "id": "Lw0S-bdyp-QP"
      }
    },
    {
      "cell_type": "markdown",
      "source": [
        "**Q4.** Find the standard deviation for the given data:\n",
        "[178,177,176,177,178.2,178,175,179,180,175,178.9,176.2,177,172.5,178,176.5]\n",
        "\n",
        "**Ans:-** mean = xi/n\n",
        "      Sum=178+177+176+177+178.2+178+175+179+180+175+178.9+176.2+177+172.5+178+176.5=2831.3\n",
        "\n",
        "      Mean= 2831.3/16 =176.95625\n",
        "      xi -mean\n",
        "      Sample Standard Deviation ≈ 1.925\n",
        "\n",
        "\n",
        ""
      ],
      "metadata": {
        "id": "ON_yt-0fp-aX"
      }
    },
    {
      "cell_type": "markdown",
      "source": [
        "**Q6.** What is a Venn diagram?\n",
        "\n",
        "**Ans:** A Venn diagram is a graphical representation of relationships between sets, often using overlapping circles or ovals to depict the common and unique elements between them\n"
      ],
      "metadata": {
        "id": "MrxX41GGx-3k"
      }
    },
    {
      "cell_type": "markdown",
      "source": [
        "**Q7.** For the two given sets A = (2,3,4,5,6,7) & B = (0,2,6,8,10). Find:\n",
        "(i) A B\n",
        "(ii) A ⋃ B\n",
        "\n",
        "**Ans:**\n",
        "\n",
        "(i) A ∩ B (Intersection of A and B)\n",
        "This is the set of elements that are common to both A and B.\n",
        "\n",
        "A ∩ B ={2,6}\n",
        "\n",
        "(ii) A U B (Union of A and B)\n",
        "This is the set of all elements from A and B without repetition.\n",
        "\n",
        "\n",
        "A U B={0,2,3,4,5,6,7,8,10}\n",
        "\n",
        " Final Answers:\n",
        "(i) A ∩ B = {2, 6}\n",
        "\n",
        "(ii) A U B = {0, 2, 3, 4, 5, 6, 7, 8, 10}\n",
        "\n",
        "\n",
        "\n",
        "\n"
      ],
      "metadata": {
        "id": "-m1pGSAezhOW"
      }
    },
    {
      "cell_type": "markdown",
      "source": [
        "**Q8.** What do you understand about skewness in data?\n",
        "\n",
        "**Ans:** Skewness in data refers to a measure of the asymmetry or lack of symmetry in the distribution of a dataset around its mean.\n",
        "\n",
        "Types of Skewness:\n",
        "Positive Skewness: The tail of the distribution extends towards higher values, making the mean greater than the median. This means the data has a few larger values that pull the average to the right.\n",
        "Negative Skewness: The tail of the distribution extends towards lower values, making the mean less than the median. This indicates a few smaller values that pull the average to the left"
      ],
      "metadata": {
        "id": "cBef6PYXzhR5"
      }
    },
    {
      "cell_type": "markdown",
      "source": [
        "**Q9.**If a data is right skewed then what will be the position of median with respect to mean?\n",
        "\n",
        "**Ans:-** In a right-skewed distribution:\n",
        "\n",
        "The mean is greater than the median.\n",
        "\n",
        "The median is less than the mean."
      ],
      "metadata": {
        "id": "2DgTGCA31Q6d"
      }
    },
    {
      "cell_type": "markdown",
      "source": [
        "**Q10.** Explain the difference between covariance and correlation. How are these measures used in\n",
        "statistical analysis?\n",
        "\n",
        "**Ans:**\n",
        "Covariance vs. Correlation: Differences to Know | Built InCovariance measures the direction of the relationship between two variables, while correlation measures both the direction and strength of that relationship.\n",
        "\n",
        "\n"
      ],
      "metadata": {
        "id": "4DhH6npT1fpt"
      }
    },
    {
      "cell_type": "markdown",
      "source": [
        "**Q11.** What is the formula for calculating the sample mean? Provide an example calculation for a\n",
        "dataset.\n",
        "\n",
        "**Ans:** Sample data:[5,8,10,7,6]\n",
        "                    \n",
        "                    5+8+10+7+6=36\n",
        "                    \n",
        "                    n=5\n",
        "\n",
        "                   = 36/5  \n",
        "\n",
        "                   =7.2\n",
        "\n"
      ],
      "metadata": {
        "id": "UTLsY1FU1fvL"
      }
    },
    {
      "cell_type": "markdown",
      "source": [
        "**Q12.** For a normal distribution data what is the relationship between its measure of central tendency?\n",
        "\n",
        "**Ans:**  The relationship between the measures of central tendency (mean, median, and mode) in a normal distribution.\n",
        "\n",
        "A normal distribution is symmetric around its mean.\n",
        "\n",
        "\n",
        "\n",
        "The mean is the average of all data points.\n",
        "\n",
        "The median is the middle value when data points are ordered.\n",
        "\n",
        "The mode is the most frequent value.\n",
        "\n",
        "In a normal distribution, the mean, median, and mode are all equal.\n",
        "\n",
        "This is because the distribution is perfectly symmetrical."
      ],
      "metadata": {
        "id": "a5z5UrQR2jVh"
      }
    },
    {
      "cell_type": "markdown",
      "source": [
        "**Q13.** How is covariance different from correlation?\n",
        "\n",
        "**Ans:** Covariance indicates the direction of the linear relationship between two variables, while correlation measures both the direction and strength of that relationship on a standardized scale."
      ],
      "metadata": {
        "id": "o-mTkdPK3ktF"
      }
    },
    {
      "cell_type": "markdown",
      "source": [
        "**14**.How do outliers affect measures of central tendency and dispersion? Provide an example.\n",
        "\n",
        "**Ans:**  Outliers, extreme data points, significantly impact both measures of central tendency (mean, median, mode) and dispersion (range, variance, standard deviation). The mean is highly sensitive, pulled towards outliers, while the median is more resistant.\n",
        "\n",
        "Measures of Central Tendency:\n",
        "\n",
        "Mean:\n",
        "Outliers dramatically shift the mean, pulling it towards the extreme value. If an outlier is large, the mean will be inflated; if small, it will be lowered. For instance, if the salaries of employees in a company are 10,000, 10,000, 10,000, and 1,000,000, the mean salary will be significantly higher than the typical employee's salary, skewed by the outlier.\n",
        "\n",
        "Median:\n",
        "The median is less affected by outliers. It represents the middle value in the sorted data, and outliers typically don't disrupt the position of the middle value unless they are very close to the median. In the salary example above, the median salary would be 10,000, not skewed by the outlier.\n",
        "Mode:\n",
        "The mode, the most frequent value, is generally unaffected by outliers unless they appear frequently in the dataset and alter the overall distribution.\n",
        "\n",
        "Measures of Dispersion:\n",
        "\n",
        "Range:\n",
        "The range (maximum - minimum) is highly susceptible to outliers. If there is a significant outlier, the range will be drastically increased, even if the rest of the data is tightly clustered.\n",
        "Variance and Standard Deviation:\n",
        "These measures of dispersion are also affected by outliers, as they consider the deviation of data points from the mean. However, their impact is less pronounced than the range.\n",
        "Interquartile Range (IQR):\n",
        "The IQR is less sensitive to outliers because it focuses on the spread of the middle 50% of the data.\n",
        "\n",
        "Example:\n",
        "Consider a dataset of exam scores: 70, 75, 80, 85, 90, 95, 95, 100.\n",
        "\n",
        "Mean: (70+75+80+85+90+95+95+100)/8 = 85.625\n",
        "\n",
        "Median: (85+90)/2 = 87.5\n",
        "\n",
        "Mode: 95\n",
        "\n",
        "Range: 100 - 70 = 30\n",
        "\n",
        "Now, introduce an outlier: 95, 95, 95, 95, 95, 95, 95, 100, 100, 100, 100, 1000.\n",
        "Mean: (95+95+95+95+95+95+95+100+100+100+1000)/11 = 179.09\n",
        "\n",
        "Median: 95\n",
        "\n",
        "Mode: 95\n",
        "\n",
        "Range: 1000 - 95 = 905\n",
        "\n",
        "The outlier has significantly increased the mean and range, demonstrating its impact on measures of central tendency and dispersion"
      ],
      "metadata": {
        "id": "dQphSlUi30oq"
      }
    },
    {
      "cell_type": "markdown",
      "source": [],
      "metadata": {
        "id": "uymHjGTG31Vf"
      }
    }
  ]
}