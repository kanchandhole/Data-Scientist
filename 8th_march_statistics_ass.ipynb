{
  "nbformat": 4,
  "nbformat_minor": 0,
  "metadata": {
    "colab": {
      "provenance": [],
      "authorship_tag": "ABX9TyPT5z1DtWgKQOr6BE6XhZdb",
      "include_colab_link": true
    },
    "kernelspec": {
      "name": "python3",
      "display_name": "Python 3"
    },
    "language_info": {
      "name": "python"
    }
  },
  "cells": [
    {
      "cell_type": "markdown",
      "metadata": {
        "id": "view-in-github",
        "colab_type": "text"
      },
      "source": [
        "<a href=\"https://colab.research.google.com/github/kanchandhole/Data-Scientist/blob/main/8th_march_statistics_ass.ipynb\" target=\"_parent\"><img src=\"https://colab.research.google.com/assets/colab-badge.svg\" alt=\"Open In Colab\"/></a>"
      ]
    },
    {
      "cell_type": "markdown",
      "source": [
        "**Q1**. What is the Probability density function?\n",
        "\n",
        "**Ans:** A Probability Density Function (PDF) is a mathematical function that describes the probability of a continuous random variable taking on a specific value."
      ],
      "metadata": {
        "id": "JBiePgAXRUf0"
      }
    },
    {
      "cell_type": "markdown",
      "source": [
        "**Q2.** What are the types of Probability distribution?\n",
        "\n",
        "**Ans:** Binomial Distribution:\n",
        "Measures the probability of a specific number of successes in a fixed number of independent trials, where each trial has only two possible outcomes.\n",
        "\n",
        "Poisson Distribution:\n",
        "Models the probability of a certain number of events occurring in a given time interval or location, assuming events happen independently and at a constant rate.\n",
        "\n",
        "Bernoulli Distribution:\n",
        "A special case of the binomial distribution where there's only one trial (success or failure).\n",
        "\n",
        "Continuous Probability Distributions: These distributions deal with variables that can take on any value within a given range. Examples include:\n",
        "\n",
        "Normal Distribution:\n",
        "A bell-shaped distribution, commonly used to model various phenomena, characterized by its mean and standard deviation.\n",
        "\n",
        "Uniform Distribution:\n",
        "A distribution where every value within a specific range has an equal probability.\n",
        "Exponential Distribution:\n",
        "Models the time until an event occurs, assuming events happen at a constant rate.\n"
      ],
      "metadata": {
        "id": "bPKZKKRKRhSi"
      }
    },
    {
      "cell_type": "markdown",
      "source": [
        "**Q3.** Write a Python function to calculate the probability density function of a normal distribution with\n",
        "given mean and standard deviation at a given point."
      ],
      "metadata": {
        "id": "sgwXVCUuR6LO"
      }
    },
    {
      "cell_type": "code",
      "source": [
        "import math\n",
        "\n",
        "def normal_pdf(x, mean, std_dev):\n",
        "    \"\"\"\n",
        "    Calculate the PDF of a normal distribution at point x.\n",
        "\n",
        "    Parameters:\n",
        "    x (float): The point at which the PDF is calculated\n",
        "    mean (float): The mean (μ) of the normal distribution\n",
        "    std_dev (float): The standard deviation (σ) of the normal distribution\n",
        "\n",
        "    Returns:\n",
        "    float: The value of the PDF at point x\n",
        "    \"\"\"\n",
        "    if std_dev <= 0:\n",
        "        raise ValueError(\"Standard deviation must be positive.\")\n",
        "\n",
        "    exponent = -((x - mean) ** 2) / (2 * std_dev ** 2)\n",
        "    coefficient = 1 / (std_dev * math.sqrt(2 * math.pi))\n",
        "    return coefficient * math.exp(exponent)"
      ],
      "metadata": {
        "id": "hgS6x1PgR71A"
      },
      "execution_count": 1,
      "outputs": []
    },
    {
      "cell_type": "code",
      "source": [
        "print(normal_pdf(1, mean=0, std_dev=1))  # PDF at x=1 for standard normal distribution"
      ],
      "metadata": {
        "colab": {
          "base_uri": "https://localhost:8080/"
        },
        "id": "CxQWyL_ETKzq",
        "outputId": "d204d03c-43fa-4ed0-9d02-f4e5fd91de9b"
      },
      "execution_count": 2,
      "outputs": [
        {
          "output_type": "stream",
          "name": "stdout",
          "text": [
            "0.24197072451914337\n"
          ]
        }
      ]
    },
    {
      "cell_type": "markdown",
      "source": [
        "**Q4.** What are the properties of Binomial distribution? Give two examples of events where binomial\n",
        "distribution can be applied.\n",
        "\n",
        "**ans:** The binomial distribution is a discrete probability distribution that describes the probability of success or failure in a series of independent trials, each with the same probability of success. It's applicable to events with two possible outcomes.\n",
        "Properties of the Binomial Distribution:\n",
        "Fixed Number of Trials (n): The experiment is repeated a fixed number of times.\n",
        "Independent Trials: Each trial is independent of the others, meaning the outcome of one trial doesn't affect the outcome of any other trial.\n",
        "Two Possible Outcomes: Each trial results in either a \"success\" or a \"failure\".\n",
        "Constant Probability of Success (p): The probability of success remains the same for each trial.\n",
        "Discrete Probability: The number of successes is a discrete random variable, meaning it can only take on whole number values."
      ],
      "metadata": {
        "id": "HtqnVnscTddb"
      }
    },
    {
      "cell_type": "markdown",
      "source": [
        "**Q5**. Generate a random sample of size 1000 from a binomial distribution with probability of success 0.4\n",
        "and plot a histogram of the results using matplotlib."
      ],
      "metadata": {
        "id": "gDy7a7L6Ts8m"
      }
    },
    {
      "cell_type": "code",
      "source": [
        "import numpy as np\n",
        "import matplotlib.pyplot as plt\n",
        "\n",
        "# Parameters\n",
        "n_trials = 10       # Number of trials per experiment\n",
        "p_success = 0.4     # Probability of success\n",
        "sample_size = 1000  # Number of experiments (sample size)\n",
        "\n",
        "# Generate random sample\n",
        "sample = np.random.binomial(n=n_trials, p=p_success, size=sample_size)\n",
        "\n",
        "# Plot histogram\n",
        "plt.hist(sample, bins=range(0, n_trials + 2), edgecolor='black', align='left')\n",
        "plt.title('Histogram of Binomial Distribution Sample')\n",
        "plt.xlabel('Number of Successes')\n",
        "plt.ylabel('Frequency')\n",
        "plt.grid(True)\n",
        "plt.show()\n"
      ],
      "metadata": {
        "colab": {
          "base_uri": "https://localhost:8080/",
          "height": 472
        },
        "id": "nAYkzTqOTK3F",
        "outputId": "b5912995-ef08-40e2-92e5-f01e1f555b5a"
      },
      "execution_count": 3,
      "outputs": [
        {
          "output_type": "display_data",
          "data": {
            "text/plain": [
              "<Figure size 640x480 with 1 Axes>"
            ],
            "image/png": "[encoded data removed]"
          },
          "metadata": {}
        }
      ]
    },
    {
      "cell_type": "markdown",
      "source": [
        "**Q6.** Write a Python function to calculate the cumulative distribution function of a Poisson distribution\n",
        "with given mean at a given point.\n",
        "\n",
        "**Ans:** (e^λ λ^x)/x!"
      ],
      "metadata": {
        "id": "Zp3sktwMUDjc"
      }
    },
    {
      "cell_type": "code",
      "source": [
        "import math\n",
        "\n",
        "def poisson_cdf(x, mean):\n",
        "    \"\"\"\n",
        "    Calculate the CDF of a Poisson distribution at point x.\n",
        "\n",
        "    Parameters:\n",
        "    x (int or float): The value up to which the CDF is calculated\n",
        "    mean (float): The mean (λ) of the Poisson distribution\n",
        "\n",
        "    Returns:\n",
        "    float: The cumulative probability P(X ≤ x)\n",
        "    \"\"\"\n",
        "    if mean < 0:\n",
        "        raise ValueError(\"Mean (λ) must be non-negative.\")\n",
        "\n",
        "    x = int(math.floor(x))\n",
        "    cdf = 0.0\n",
        "    for k in range(0, x + 1):\n",
        "        cdf += (math.exp(-mean) * mean**k) / math.factorial(k)\n",
        "    return cdf"
      ],
      "metadata": {
        "id": "6egJQFUzVLG2"
      },
      "execution_count": 4,
      "outputs": []
    },
    {
      "cell_type": "code",
      "source": [
        "print(poisson_cdf(3, mean=2.5))  # P(X ≤ 3) for λ = 2.5"
      ],
      "metadata": {
        "colab": {
          "base_uri": "https://localhost:8080/"
        },
        "id": "pQA_QMDhVSlP",
        "outputId": "5a28a925-d72d-4504-fbb0-8463f86161e4"
      },
      "execution_count": 5,
      "outputs": [
        {
          "output_type": "stream",
          "name": "stdout",
          "text": [
            "0.7575761331330659\n"
          ]
        }
      ]
    },
    {
      "cell_type": "markdown",
      "source": [
        "**Q7.** How Binomial distribution different from Poisson distribution?\n",
        "\n",
        "**ANS:** Binomial Distribution:\n",
        "\n",
        "Fixed number of trials:\n",
        "The experiment has a predefined number of trials (e.g., flipping a coin 10 times).\n",
        "\n",
        "Two possible outcomes:\n",
        "Each trial results in either success or failure.\n",
        "\n",
        "Constant probability of success:\n",
        "The probability of success remains the same for each trial (e.g., the probability of getting heads on a coin flip).\n",
        "\n",
        "Discrete variable:\n",
        "The random variable represents the number of successes in the fixed number of trials.\n",
        "\n",
        "Poisson Distribution:\n",
        "\n",
        "Events occurring within a fixed interval:\n",
        "The experiment involves events occurring within a fixed time period or space (e.g., the number of phone calls received in an hour).\n",
        "\n",
        "Unlimited number of occurrences:\n",
        "The number of events can be unlimited within the fixed interval.\n",
        "\n",
        "Average rate:\n",
        "The Poisson distribution is characterized by a parameter lambda (λ), which represents the average number of events occurring within the specified interval.\n",
        "\n",
        "Discrete variable:\n",
        "The random variable represents the number of events occurring within the fixed interval."
      ],
      "metadata": {
        "id": "wPHjY8-hWKWT"
      }
    },
    {
      "cell_type": "markdown",
      "source": [
        "**Q8.** Generate a random sample of size 1000 from a Poisson distribution with mean 5 and calculate the\n",
        "sample mean and variance.\n",
        "\n",
        "**Ans:** For a Poisson distribution:\n",
        "\n",
        "Theoretical mean = λ = 5\n",
        "\n",
        "Theoretical variance = λ = 5"
      ],
      "metadata": {
        "id": "uoWDVVacW0N9"
      }
    },
    {
      "cell_type": "code",
      "source": [
        "import numpy as np\n",
        "\n",
        "# Parameters\n",
        "mean_lambda = 5\n",
        "sample_size = 1000\n",
        "\n",
        "# Generate random sample\n",
        "sample = np.random.poisson(lam=mean_lambda, size=sample_size)\n",
        "\n",
        "# Calculate sample mean and variance\n",
        "sample_mean = np.mean(sample)\n",
        "sample_variance = np.var(sample)\n",
        "\n",
        "# Output results\n",
        "print(\"Sample Mean:\", sample_mean)\n",
        "print(\"Sample Variance:\", sample_variance)"
      ],
      "metadata": {
        "colab": {
          "base_uri": "https://localhost:8080/"
        },
        "id": "dJzYptoLW3y6",
        "outputId": "10a76d71-3dce-431b-f2c9-c754cab986bd"
      },
      "execution_count": 6,
      "outputs": [
        {
          "output_type": "stream",
          "name": "stdout",
          "text": [
            "Sample Mean: 4.895\n",
            "Sample Variance: 5.031975\n"
          ]
        }
      ]
    },
    {
      "cell_type": "markdown",
      "source": [
        "**Q9.** How mean and variance are related in Binomial distribution and Poisson distribution?\n",
        "\n",
        "**Ans:** Binomial distribution Poisson distribution     \n",
        "Mean of Binomial distribution: \\(\\mu =np\\) Variance of Binomial distribution: \\(\\sigma ^{2}=np(1-p)\\)\n",
        "\n",
        " Mean of Poisson distribution:\n",
        "  \\(\\mu =\\lambda \\) Variance of Poisson distribution: \\(\\sigma ^{2}=\\lambda \\)              \n",
        "\n",
        " State the formulas for the mean and variance for both distributions and compare them.\n",
        "\n",
        " Step 1 . State the mean and variance of the Binomial distribution.\n",
        " The mean of a Binomial distribution is:\\(\\mu =np\\)\n",
        "\n",
        "  The variance of a Binomial distribution is: \\(\\sigma ^{2}=np(1-p)\\)\n",
        "\n",
        "  Step 2 . State the mean and variance of the Poisson distribution.\n",
        "  \n",
        "  The mean of a Poisson distribution is:\\(\\mu =\\lambda \\)\n",
        "  \n",
        "  The variance of a Poisson distribution is: \\(\\sigma ^{2}=\\lambda \\)\n",
        "\n",
        "  Step 3 . Compare the mean and variance for both distributions.\n",
        "  \n",
        "  In a Binomial distribution, the variance is the mean multiplied by \\((1-p)\\), where \\(p\\) is the probability of success.\n",
        "  \n",
        "  Therefore, the variance is always less than or equal to the mean.\n",
        "  In a Poisson distribution, the variance is equal to the mean.  "
      ],
      "metadata": {
        "id": "eqjMYjFWXL2g"
      }
    },
    {
      "cell_type": "markdown",
      "source": [
        "**Q10.** In normal distribution with respect to mean position, where does the least frequent data appear?\n",
        "\n",
        "**Ans:**\n",
        "The empirical rule, or the 68-95-99.7 rule, most of the values lie in a normal distribution:\n",
        "\n",
        "Around 68% of values are within 1 standard deviation of the mean.\n",
        "\n",
        "Around 95% of values are within 2 standard deviations of the mean.\n",
        "\n",
        "Around 99.7% of values are within 3 standard deviations of the mean."
      ],
      "metadata": {
        "id": "6GceinIaYU3I"
      }
    }
  ]
}